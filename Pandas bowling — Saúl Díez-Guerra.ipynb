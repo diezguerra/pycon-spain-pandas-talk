{
 "metadata": {
  "name": ""
 },
 "nbformat": 3,
 "nbformat_minor": 0,
 "worksheets": [
  {
   "cells": [
    {
     "cell_type": "markdown",
     "metadata": {},
     "source": [
      "# Pandas bowling: convierte tus datos en informaci\u00f3n\n",
      "*Introducci\u00f3n a la manipulaci\u00f3n de datos utilizando pandas contra un set de datos p\u00fablicos. Data munging: filtering, merging, grouping, estad\u00edsticas comunes e introducci\u00f3n al plotting.*"
     ]
    },
    {
     "cell_type": "raw",
     "metadata": {},
     "source": [
      "![Pandas bowling](http://i50.tinypic.com/k30phw.gif)"
     ]
    },
    {
     "cell_type": "code",
     "collapsed": false,
     "input": [
      "import pandas as pd\n",
      "import csv\n",
      "import re\n",
      "import unicodedata"
     ],
     "language": "python",
     "metadata": {},
     "outputs": [],
     "prompt_number": 3
    },
    {
     "cell_type": "code",
     "collapsed": false,
     "input": [
      "# Delimiter ; \n",
      "#Awkward encoding\n",
      "\n",
      "dialect = csv.excel()\n",
      "dialect.delimiter = ';'\n",
      "# Source: http://www.datosabiertos.jcyl.es/web/jcyl/risp/es/directorio/bares/1284211832884.csv\n",
      "bars = pd.read_csv('bares.csv', dialect=dialect, encoding='cp1252')\n",
      "\n",
      "to_ascii = lambda text: unicodedata.normalize('NFKD', text).encode('ASCII', 'ignore').upper()"
     ],
     "language": "python",
     "metadata": {},
     "outputs": [],
     "prompt_number": 5
    },
    {
     "cell_type": "code",
     "collapsed": false,
     "input": [
      "bars"
     ],
     "language": "python",
     "metadata": {},
     "outputs": [
      {
       "html": [
        "<pre>\n",
        "&lt;class 'pandas.core.frame.DataFrame'&gt;\n",
        "Int64Index: 13984 entries, 0 to 13983\n",
        "Data columns (total 15 columns):\n",
        "Nombre         13984  non-null values\n",
        "Direcci\u00f3n      13915  non-null values\n",
        "C.Postal       13958  non-null values\n",
        "Provincia      13984  non-null values\n",
        "Municipio      13984  non-null values\n",
        "Localidad      13984  non-null values\n",
        "Nucleo         9786  non-null values\n",
        "Tel\u00e9fono 1     11849  non-null values\n",
        "Tel\u00e9fono 2     658  non-null values\n",
        "Tel\u00e9fono 3     21  non-null values\n",
        "Fax            45  non-null values\n",
        "Email          255  non-null values\n",
        "web            39  non-null values\n",
        "Q Calidad      0  non-null values\n",
        "Unnamed: 14    0  non-null values\n",
        "dtypes: float64(2), object(13)\n",
        "</pre>"
       ],
       "metadata": {},
       "output_type": "pyout",
       "prompt_number": 6,
       "text": [
        "<class 'pandas.core.frame.DataFrame'>\n",
        "Int64Index: 13984 entries, 0 to 13983\n",
        "Data columns (total 15 columns):\n",
        "Nombre         13984  non-null values\n",
        "Direcci\u00f3n      13915  non-null values\n",
        "C.Postal       13958  non-null values\n",
        "Provincia      13984  non-null values\n",
        "Municipio      13984  non-null values\n",
        "Localidad      13984  non-null values\n",
        "Nucleo         9786  non-null values\n",
        "Tel\u00e9fono 1     11849  non-null values\n",
        "Tel\u00e9fono 2     658  non-null values\n",
        "Tel\u00e9fono 3     21  non-null values\n",
        "Fax            45  non-null values\n",
        "Email          255  non-null values\n",
        "web            39  non-null values\n",
        "Q Calidad      0  non-null values\n",
        "Unnamed: 14    0  non-null values\n",
        "dtypes: float64(2), object(13)"
       ]
      }
     ],
     "prompt_number": 6
    },
    {
     "cell_type": "code",
     "collapsed": false,
     "input": [
      "bars.head()"
     ],
     "language": "python",
     "metadata": {},
     "outputs": [
      {
       "html": [
        "<div style=\"max-height:1000px;max-width:1500px;overflow:auto;\">\n",
        "<table border=\"1\" class=\"dataframe\">\n",
        "  <thead>\n",
        "    <tr style=\"text-align: right;\">\n",
        "      <th></th>\n",
        "      <th>Nombre</th>\n",
        "      <th>Direcci\u00f3n</th>\n",
        "      <th>C.Postal</th>\n",
        "      <th>Provincia</th>\n",
        "      <th>Municipio</th>\n",
        "      <th>Localidad</th>\n",
        "      <th>Nucleo</th>\n",
        "      <th>Tel\u00e9fono 1</th>\n",
        "      <th>Tel\u00e9fono 2</th>\n",
        "      <th>Tel\u00e9fono 3</th>\n",
        "      <th>Fax</th>\n",
        "      <th>Email</th>\n",
        "      <th>web</th>\n",
        "      <th>Q Calidad</th>\n",
        "      <th>Unnamed: 14</th>\n",
        "    </tr>\n",
        "  </thead>\n",
        "  <tbody>\n",
        "    <tr>\n",
        "      <th>0</th>\n",
        "      <td> CASA PEDRO</td>\n",
        "      <td>           NU\u00d1EZ DE ARCE 4</td>\n",
        "      <td> 47002</td>\n",
        "      <td> Valladolid</td>\n",
        "      <td>        Valladolid</td>\n",
        "      <td>        VALLADOLID</td>\n",
        "      <td>        VALLADOLID</td>\n",
        "      <td>    983000000</td>\n",
        "      <td> NaN</td>\n",
        "      <td> NaN</td>\n",
        "      <td> NaN</td>\n",
        "      <td> NaN</td>\n",
        "      <td> NaN</td>\n",
        "      <td>NaN</td>\n",
        "      <td>NaN</td>\n",
        "    </tr>\n",
        "    <tr>\n",
        "      <th>1</th>\n",
        "      <td>    CIRIACO</td>\n",
        "      <td>                 PLAZA, 14</td>\n",
        "      <td> 49254</td>\n",
        "      <td>     Zamora</td>\n",
        "      <td>   Moral de Sayago</td>\n",
        "      <td>            ABELON</td>\n",
        "      <td>            ABELON</td>\n",
        "      <td>    980111111</td>\n",
        "      <td> NaN</td>\n",
        "      <td> NaN</td>\n",
        "      <td> NaN</td>\n",
        "      <td> NaN</td>\n",
        "      <td> NaN</td>\n",
        "      <td>NaN</td>\n",
        "      <td>NaN</td>\n",
        "    </tr>\n",
        "    <tr>\n",
        "      <th>2</th>\n",
        "      <td>     LLAMAS</td>\n",
        "      <td>        C/ JOSE ANTONIO, 1</td>\n",
        "      <td> 49624</td>\n",
        "      <td>     Zamora</td>\n",
        "      <td> Micereces de Tera</td>\n",
        "      <td> ABRAVESES DE TERA</td>\n",
        "      <td> ABRAVESES DE TERA</td>\n",
        "      <td>    980111111</td>\n",
        "      <td> NaN</td>\n",
        "      <td> NaN</td>\n",
        "      <td> NaN</td>\n",
        "      <td> NaN</td>\n",
        "      <td> NaN</td>\n",
        "      <td>NaN</td>\n",
        "      <td>NaN</td>\n",
        "    </tr>\n",
        "    <tr>\n",
        "      <th>3</th>\n",
        "      <td>     R\u00c1FAGA</td>\n",
        "      <td>      ANTONIO MONEDERO, 39</td>\n",
        "      <td> 34210</td>\n",
        "      <td>   Palencia</td>\n",
        "      <td>            Due\u00f1as</td>\n",
        "      <td>            DUE\u00d1AS</td>\n",
        "      <td>               NaN</td>\n",
        "      <td>    979780880</td>\n",
        "      <td> NaN</td>\n",
        "      <td> NaN</td>\n",
        "      <td> NaN</td>\n",
        "      <td> NaN</td>\n",
        "      <td> NaN</td>\n",
        "      <td>NaN</td>\n",
        "      <td>NaN</td>\n",
        "    </tr>\n",
        "    <tr>\n",
        "      <th>4</th>\n",
        "      <td> EL CHAFLAN</td>\n",
        "      <td> C/ MARCELINA DEL VALLE, 3</td>\n",
        "      <td> 49400</td>\n",
        "      <td>     Zamora</td>\n",
        "      <td>       Fuentesa\u00faco</td>\n",
        "      <td>       FUENTESAUCO</td>\n",
        "      <td>       FUENTESAUCO</td>\n",
        "      <td> 980 62 02 02</td>\n",
        "      <td> NaN</td>\n",
        "      <td> NaN</td>\n",
        "      <td> NaN</td>\n",
        "      <td> NaN</td>\n",
        "      <td> NaN</td>\n",
        "      <td>NaN</td>\n",
        "      <td>NaN</td>\n",
        "    </tr>\n",
        "  </tbody>\n",
        "</table>\n",
        "</div>"
       ],
       "metadata": {},
       "output_type": "pyout",
       "prompt_number": 7,
       "text": [
        "       Nombre                  Direcci\u00f3n C.Postal   Provincia  \\\n",
        "0  CASA PEDRO            NU\u00d1EZ DE ARCE 4    47002  Valladolid   \n",
        "1     CIRIACO                  PLAZA, 14    49254      Zamora   \n",
        "2      LLAMAS         C/ JOSE ANTONIO, 1    49624      Zamora   \n",
        "3      R\u00c1FAGA       ANTONIO MONEDERO, 39    34210    Palencia   \n",
        "4  EL CHAFLAN  C/ MARCELINA DEL VALLE, 3    49400      Zamora   \n",
        "\n",
        "           Municipio          Localidad             Nucleo    Tel\u00e9fono 1  \\\n",
        "0         Valladolid         VALLADOLID         VALLADOLID     983000000   \n",
        "1    Moral de Sayago             ABELON             ABELON     980111111   \n",
        "2  Micereces de Tera  ABRAVESES DE TERA  ABRAVESES DE TERA     980111111   \n",
        "3             Due\u00f1as             DUE\u00d1AS                NaN     979780880   \n",
        "4        Fuentesa\u00faco        FUENTESAUCO        FUENTESAUCO  980 62 02 02   \n",
        "\n",
        "  Tel\u00e9fono 2 Tel\u00e9fono 3  Fax Email  web  Q Calidad  Unnamed: 14  \n",
        "0        NaN        NaN  NaN   NaN  NaN        NaN          NaN  \n",
        "1        NaN        NaN  NaN   NaN  NaN        NaN          NaN  \n",
        "2        NaN        NaN  NaN   NaN  NaN        NaN          NaN  \n",
        "3        NaN        NaN  NaN   NaN  NaN        NaN          NaN  \n",
        "4        NaN        NaN  NaN   NaN  NaN        NaN          NaN  "
       ]
      }
     ],
     "prompt_number": 7
    },
    {
     "cell_type": "code",
     "collapsed": false,
     "input": [
      "bars[bars.Localidad.apply(lambda x: x.find('LA ') != -1)]"
     ],
     "language": "python",
     "metadata": {},
     "outputs": [
      {
       "html": [
        "<pre>\n",
        "&lt;class 'pandas.core.frame.DataFrame'&gt;\n",
        "Int64Index: 805 entries, 46 to 13973\n",
        "Data columns (total 15 columns):\n",
        "Nombre         805  non-null values\n",
        "Direcci\u00f3n      795  non-null values\n",
        "C.Postal       803  non-null values\n",
        "Provincia      805  non-null values\n",
        "Municipio      805  non-null values\n",
        "Localidad      805  non-null values\n",
        "Nucleo         574  non-null values\n",
        "Tel\u00e9fono 1     685  non-null values\n",
        "Tel\u00e9fono 2     51  non-null values\n",
        "Tel\u00e9fono 3     0  non-null values\n",
        "Fax            3  non-null values\n",
        "Email          17  non-null values\n",
        "web            1  non-null values\n",
        "Q Calidad      0  non-null values\n",
        "Unnamed: 14    0  non-null values\n",
        "dtypes: float64(2), object(13)\n",
        "</pre>"
       ],
       "metadata": {},
       "output_type": "pyout",
       "prompt_number": 8,
       "text": [
        "<class 'pandas.core.frame.DataFrame'>\n",
        "Int64Index: 805 entries, 46 to 13973\n",
        "Data columns (total 15 columns):\n",
        "Nombre         805  non-null values\n",
        "Direcci\u00f3n      795  non-null values\n",
        "C.Postal       803  non-null values\n",
        "Provincia      805  non-null values\n",
        "Municipio      805  non-null values\n",
        "Localidad      805  non-null values\n",
        "Nucleo         574  non-null values\n",
        "Tel\u00e9fono 1     685  non-null values\n",
        "Tel\u00e9fono 2     51  non-null values\n",
        "Tel\u00e9fono 3     0  non-null values\n",
        "Fax            3  non-null values\n",
        "Email          17  non-null values\n",
        "web            1  non-null values\n",
        "Q Calidad      0  non-null values\n",
        "Unnamed: 14    0  non-null values\n",
        "dtypes: float64(2), object(13)"
       ]
      }
     ],
     "prompt_number": 8
    },
    {
     "cell_type": "code",
     "collapsed": false,
     "input": [
      "# Selecci\u00f3n de filas\n",
      "bars.iloc[0]\n",
      "bars.loc[0]\n",
      "bars.ix[0]\n",
      "bars.T[0]"
     ],
     "language": "python",
     "metadata": {},
     "outputs": [
      {
       "metadata": {},
       "output_type": "pyout",
       "prompt_number": 9,
       "text": [
        "Nombre              CASA PEDRO\n",
        "Direcci\u00f3n      NU\u00d1EZ DE ARCE 4\n",
        "C.Postal                 47002\n",
        "Provincia           Valladolid\n",
        "Municipio           Valladolid\n",
        "Localidad           VALLADOLID\n",
        "Nucleo              VALLADOLID\n",
        "Tel\u00e9fono 1           983000000\n",
        "Tel\u00e9fono 2                 NaN\n",
        "Tel\u00e9fono 3                 NaN\n",
        "Fax                        NaN\n",
        "Email                      NaN\n",
        "web                        NaN\n",
        "Q Calidad                  NaN\n",
        "Unnamed: 14                NaN\n",
        "Name: 0, dtype: object"
       ]
      }
     ],
     "prompt_number": 9
    },
    {
     "cell_type": "code",
     "collapsed": false,
     "input": [
      "bars.T"
     ],
     "language": "python",
     "metadata": {},
     "outputs": [
      {
       "html": [
        "<pre>\n",
        "&lt;class 'pandas.core.frame.DataFrame'&gt;\n",
        "Index: 15 entries, Nombre to Unnamed: 14\n",
        "Columns: 13984 entries, 0 to 13983\n",
        "dtypes: object(13984)\n",
        "</pre>"
       ],
       "metadata": {},
       "output_type": "pyout",
       "prompt_number": 10,
       "text": [
        "<class 'pandas.core.frame.DataFrame'>\n",
        "Index: 15 entries, Nombre to Unnamed: 14\n",
        "Columns: 13984 entries, 0 to 13983\n",
        "dtypes: object(13984)"
       ]
      }
     ],
     "prompt_number": 10
    },
    {
     "cell_type": "code",
     "collapsed": false,
     "input": [
      "bars.tail(1)"
     ],
     "language": "python",
     "metadata": {},
     "outputs": [
      {
       "html": [
        "<div style=\"max-height:1000px;max-width:1500px;overflow:auto;\">\n",
        "<table border=\"1\" class=\"dataframe\">\n",
        "  <thead>\n",
        "    <tr style=\"text-align: right;\">\n",
        "      <th></th>\n",
        "      <th>Nombre</th>\n",
        "      <th>Direcci\u00f3n</th>\n",
        "      <th>C.Postal</th>\n",
        "      <th>Provincia</th>\n",
        "      <th>Municipio</th>\n",
        "      <th>Localidad</th>\n",
        "      <th>Nucleo</th>\n",
        "      <th>Tel\u00e9fono 1</th>\n",
        "      <th>Tel\u00e9fono 2</th>\n",
        "      <th>Tel\u00e9fono 3</th>\n",
        "      <th>Fax</th>\n",
        "      <th>Email</th>\n",
        "      <th>web</th>\n",
        "      <th>Q Calidad</th>\n",
        "      <th>Unnamed: 14</th>\n",
        "    </tr>\n",
        "  </thead>\n",
        "  <tbody>\n",
        "    <tr>\n",
        "      <th>13983</th>\n",
        "      <td> ARCO DE TRIUNFO</td>\n",
        "      <td> VILLAR Y MACIAS, 7</td>\n",
        "      <td> 37003</td>\n",
        "      <td> Salamanca</td>\n",
        "      <td> Salamanca</td>\n",
        "      <td> SALAMANCA</td>\n",
        "      <td> SALAMANCA</td>\n",
        "      <td> 622860107</td>\n",
        "      <td> 622860107</td>\n",
        "      <td> NaN</td>\n",
        "      <td> NaN</td>\n",
        "      <td> NaN</td>\n",
        "      <td> NaN</td>\n",
        "      <td>NaN</td>\n",
        "      <td>NaN</td>\n",
        "    </tr>\n",
        "  </tbody>\n",
        "</table>\n",
        "</div>"
       ],
       "metadata": {},
       "output_type": "pyout",
       "prompt_number": 13,
       "text": [
        "                Nombre           Direcci\u00f3n C.Postal  Provincia  Municipio  \\\n",
        "13983  ARCO DE TRIUNFO  VILLAR Y MACIAS, 7    37003  Salamanca  Salamanca   \n",
        "\n",
        "       Localidad     Nucleo Tel\u00e9fono 1 Tel\u00e9fono 2 Tel\u00e9fono 3  Fax Email  web  \\\n",
        "13983  SALAMANCA  SALAMANCA  622860107  622860107        NaN  NaN   NaN  NaN   \n",
        "\n",
        "       Q Calidad  Unnamed: 14  \n",
        "13983        NaN          NaN  "
       ]
      }
     ],
     "prompt_number": 13
    },
    {
     "cell_type": "code",
     "collapsed": false,
     "input": [
      "web_only = bars.dropna(subset=['web'])\n",
      "len(web_only)\n",
      "web_only[web_only.Localidad == 'BURGOS']"
     ],
     "language": "python",
     "metadata": {},
     "outputs": [
      {
       "html": [
        "<div style=\"max-height:1000px;max-width:1500px;overflow:auto;\">\n",
        "<table border=\"1\" class=\"dataframe\">\n",
        "  <thead>\n",
        "    <tr style=\"text-align: right;\">\n",
        "      <th></th>\n",
        "      <th>Nombre</th>\n",
        "      <th>Direcci\u00f3n</th>\n",
        "      <th>C.Postal</th>\n",
        "      <th>Provincia</th>\n",
        "      <th>Municipio</th>\n",
        "      <th>Localidad</th>\n",
        "      <th>Nucleo</th>\n",
        "      <th>Tel\u00e9fono 1</th>\n",
        "      <th>Tel\u00e9fono 2</th>\n",
        "      <th>Tel\u00e9fono 3</th>\n",
        "      <th>Fax</th>\n",
        "      <th>Email</th>\n",
        "      <th>web</th>\n",
        "      <th>Q Calidad</th>\n",
        "      <th>Unnamed: 14</th>\n",
        "    </tr>\n",
        "  </thead>\n",
        "  <tbody>\n",
        "    <tr>\n",
        "      <th>6820 </th>\n",
        "      <td>  CENTRO LOS BRASEROS</td>\n",
        "      <td>              AVDA/DEL CID, 2 BIS</td>\n",
        "      <td> 09003</td>\n",
        "      <td> Burgos</td>\n",
        "      <td> Burgos</td>\n",
        "      <td> BURGOS</td>\n",
        "      <td> BURGOS</td>\n",
        "      <td> 947252958</td>\n",
        "      <td>       NaN</td>\n",
        "      <td> NaN</td>\n",
        "      <td> 947251184</td>\n",
        "      <td> reservas@hotelcentroburgos.com</td>\n",
        "      <td> www.hotelcentroburgos.com</td>\n",
        "      <td>NaN</td>\n",
        "      <td>NaN</td>\n",
        "    </tr>\n",
        "    <tr>\n",
        "      <th>8725 </th>\n",
        "      <td>       LA CHAMARILERA</td>\n",
        "      <td>                   CL/SAN COSME,7</td>\n",
        "      <td> 09002</td>\n",
        "      <td> Burgos</td>\n",
        "      <td> Burgos</td>\n",
        "      <td> BURGOS</td>\n",
        "      <td> BURGOS</td>\n",
        "      <td> 947276395</td>\n",
        "      <td> 661715972</td>\n",
        "      <td> NaN</td>\n",
        "      <td>       NaN</td>\n",
        "      <td>            fmanciles@gmail.com</td>\n",
        "      <td>     www.lachamarilera.com</td>\n",
        "      <td>NaN</td>\n",
        "      <td>NaN</td>\n",
        "    </tr>\n",
        "    <tr>\n",
        "      <th>13268</th>\n",
        "      <td>          PLAZA NUEVA</td>\n",
        "      <td>                 CL/VILLADIEGO,12</td>\n",
        "      <td> 09001</td>\n",
        "      <td> Burgos</td>\n",
        "      <td> Burgos</td>\n",
        "      <td> BURGOS</td>\n",
        "      <td> BURGOS</td>\n",
        "      <td> 686025034</td>\n",
        "      <td> 687400757</td>\n",
        "      <td> NaN</td>\n",
        "      <td>       NaN</td>\n",
        "      <td>      analuzgonzalez@hotmail.es</td>\n",
        "      <td>            www.elplaza.es</td>\n",
        "      <td>NaN</td>\n",
        "      <td>NaN</td>\n",
        "    </tr>\n",
        "    <tr>\n",
        "      <th>13707</th>\n",
        "      <td> LA CASA DE LAS MUSAS</td>\n",
        "      <td> CL/EDUARDO MARTINEZ DEL CAMPO,22</td>\n",
        "      <td> 09003</td>\n",
        "      <td> Burgos</td>\n",
        "      <td> Burgos</td>\n",
        "      <td> BURGOS</td>\n",
        "      <td> BURGOS</td>\n",
        "      <td> 600063501</td>\n",
        "      <td>       NaN</td>\n",
        "      <td> NaN</td>\n",
        "      <td>       NaN</td>\n",
        "      <td>      hola@lacasadelasmusas.com</td>\n",
        "      <td>  www.lacasadelasmusas.com</td>\n",
        "      <td>NaN</td>\n",
        "      <td>NaN</td>\n",
        "    </tr>\n",
        "  </tbody>\n",
        "</table>\n",
        "</div>"
       ],
       "metadata": {},
       "output_type": "pyout",
       "prompt_number": 14,
       "text": [
        "                     Nombre                         Direcci\u00f3n C.Postal  \\\n",
        "6820    CENTRO LOS BRASEROS               AVDA/DEL CID, 2 BIS    09003   \n",
        "8725         LA CHAMARILERA                    CL/SAN COSME,7    09002   \n",
        "13268           PLAZA NUEVA                  CL/VILLADIEGO,12    09001   \n",
        "13707  LA CASA DE LAS MUSAS  CL/EDUARDO MARTINEZ DEL CAMPO,22    09003   \n",
        "\n",
        "      Provincia Municipio Localidad  Nucleo Tel\u00e9fono 1 Tel\u00e9fono 2 Tel\u00e9fono 3  \\\n",
        "6820     Burgos    Burgos    BURGOS  BURGOS  947252958        NaN        NaN   \n",
        "8725     Burgos    Burgos    BURGOS  BURGOS  947276395  661715972        NaN   \n",
        "13268    Burgos    Burgos    BURGOS  BURGOS  686025034  687400757        NaN   \n",
        "13707    Burgos    Burgos    BURGOS  BURGOS  600063501        NaN        NaN   \n",
        "\n",
        "             Fax                           Email                        web  \\\n",
        "6820   947251184  reservas@hotelcentroburgos.com  www.hotelcentroburgos.com   \n",
        "8725         NaN             fmanciles@gmail.com      www.lachamarilera.com   \n",
        "13268        NaN       analuzgonzalez@hotmail.es             www.elplaza.es   \n",
        "13707        NaN       hola@lacasadelasmusas.com   www.lacasadelasmusas.com   \n",
        "\n",
        "       Q Calidad  Unnamed: 14  \n",
        "6820         NaN          NaN  \n",
        "8725         NaN          NaN  \n",
        "13268        NaN          NaN  \n",
        "13707        NaN          NaN  "
       ]
      }
     ],
     "prompt_number": 14
    },
    {
     "cell_type": "code",
     "collapsed": false,
     "input": [
      "bars[\"C.Postal\"]"
     ],
     "language": "python",
     "metadata": {},
     "outputs": [
      {
       "metadata": {},
       "output_type": "pyout",
       "prompt_number": 15,
       "text": [
        "0     47002\n",
        "1     49254\n",
        "2     49624\n",
        "3     34210\n",
        "4     49400\n",
        "5     49400\n",
        "6     49400\n",
        "7     49400\n",
        "8     49400\n",
        "9     49400\n",
        "10    49400\n",
        "11    49400\n",
        "12    37006\n",
        "13    37002\n",
        "14    47410\n",
        "...\n",
        "13969    24000\n",
        "13970    37173\n",
        "13971    24442\n",
        "13972    09200\n",
        "13973    24792\n",
        "13974    24380\n",
        "13975    34200\n",
        "13976    24004\n",
        "13977    37007\n",
        "13978    24010\n",
        "13979    37318\n",
        "13980    49012\n",
        "13981    24003\n",
        "13982    37173\n",
        "13983    37003\n",
        "Name: C.Postal, Length: 13984, dtype: object"
       ]
      }
     ],
     "prompt_number": 15
    },
    {
     "cell_type": "code",
     "collapsed": false,
     "input": [
      "bars.Provincia"
     ],
     "language": "python",
     "metadata": {},
     "outputs": [
      {
       "metadata": {},
       "output_type": "pyout",
       "prompt_number": 16,
       "text": [
        "0     Valladolid\n",
        "1         Zamora\n",
        "2         Zamora\n",
        "3       Palencia\n",
        "4         Zamora\n",
        "5         Zamora\n",
        "6         Zamora\n",
        "7         Zamora\n",
        "8         Zamora\n",
        "9         Zamora\n",
        "10        Zamora\n",
        "11        Zamora\n",
        "12     Salamanca\n",
        "13     Salamanca\n",
        "14    Valladolid\n",
        "...\n",
        "13969         Le\u00f3n\n",
        "13970    Salamanca\n",
        "13971         Le\u00f3n\n",
        "13972       Burgos\n",
        "13973         Le\u00f3n\n",
        "13974         Le\u00f3n\n",
        "13975     Palencia\n",
        "13976         Le\u00f3n\n",
        "13977    Salamanca\n",
        "13978         Le\u00f3n\n",
        "13979    Salamanca\n",
        "13980       Zamora\n",
        "13981         Le\u00f3n\n",
        "13982    Salamanca\n",
        "13983    Salamanca\n",
        "Name: Provincia, Length: 13984, dtype: object"
       ]
      }
     ],
     "prompt_number": 16
    },
    {
     "cell_type": "code",
     "collapsed": false,
     "input": [
      "by_provincia_gb = bars.groupby('Provincia')\n",
      "by_provincia_gb"
     ],
     "language": "python",
     "metadata": {},
     "outputs": [
      {
       "metadata": {},
       "output_type": "pyout",
       "prompt_number": 17,
       "text": [
        "<pandas.core.groupby.DataFrameGroupBy object at 0x10956be50>"
       ]
      }
     ],
     "prompt_number": 17
    },
    {
     "cell_type": "code",
     "collapsed": false,
     "input": [
      "# Bares de Le\u00f3n que tengan p\u00e1gina web?"
     ],
     "language": "python",
     "metadata": {},
     "outputs": [],
     "prompt_number": 22
    },
    {
     "cell_type": "code",
     "collapsed": false,
     "input": [
      "by_provincia = pd.DataFrame({'Bares': by_provincia_gb.size()})\n",
      "by_provincia"
     ],
     "language": "python",
     "metadata": {},
     "outputs": [
      {
       "html": [
        "<div style=\"max-height:1000px;max-width:1500px;overflow:auto;\">\n",
        "<table border=\"1\" class=\"dataframe\">\n",
        "  <thead>\n",
        "    <tr style=\"text-align: right;\">\n",
        "      <th></th>\n",
        "      <th>Bares</th>\n",
        "    </tr>\n",
        "    <tr>\n",
        "      <th>Provincia</th>\n",
        "      <th></th>\n",
        "    </tr>\n",
        "  </thead>\n",
        "  <tbody>\n",
        "    <tr>\n",
        "      <th>Burgos</th>\n",
        "      <td> 1796</td>\n",
        "    </tr>\n",
        "    <tr>\n",
        "      <th>Le\u00f3n</th>\n",
        "      <td> 2224</td>\n",
        "    </tr>\n",
        "    <tr>\n",
        "      <th>Palencia</th>\n",
        "      <td> 1057</td>\n",
        "    </tr>\n",
        "    <tr>\n",
        "      <th>Salamanca</th>\n",
        "      <td> 1341</td>\n",
        "    </tr>\n",
        "    <tr>\n",
        "      <th>Segovia</th>\n",
        "      <td>  804</td>\n",
        "    </tr>\n",
        "    <tr>\n",
        "      <th>Soria</th>\n",
        "      <td>  353</td>\n",
        "    </tr>\n",
        "    <tr>\n",
        "      <th>Valladolid</th>\n",
        "      <td> 3724</td>\n",
        "    </tr>\n",
        "    <tr>\n",
        "      <th>Zamora</th>\n",
        "      <td> 1282</td>\n",
        "    </tr>\n",
        "    <tr>\n",
        "      <th>\u00c1vila</th>\n",
        "      <td> 1403</td>\n",
        "    </tr>\n",
        "  </tbody>\n",
        "</table>\n",
        "</div>"
       ],
       "metadata": {},
       "output_type": "pyout",
       "prompt_number": 23,
       "text": [
        "            Bares\n",
        "Provincia        \n",
        "Burgos       1796\n",
        "Le\u00f3n         2224\n",
        "Palencia     1057\n",
        "Salamanca    1341\n",
        "Segovia       804\n",
        "Soria         353\n",
        "Valladolid   3724\n",
        "Zamora       1282\n",
        "\u00c1vila        1403"
       ]
      }
     ],
     "prompt_number": 23
    },
    {
     "cell_type": "code",
     "collapsed": false,
     "input": [
      "# Sort?"
     ],
     "language": "python",
     "metadata": {},
     "outputs": [],
     "prompt_number": 525
    },
    {
     "cell_type": "code",
     "collapsed": false,
     "input": [
      "by_provincia.set_index(by_provincia.index.map(lambda x: x[:2])).plot()"
     ],
     "language": "python",
     "metadata": {},
     "outputs": [
      {
       "metadata": {},
       "output_type": "pyout",
       "prompt_number": 24,
       "text": [
        "<matplotlib.axes.AxesSubplot at 0x108747990>"
       ]
      },
      {
       "metadata": {},
       "output_type": "display_data",
       "png": "[encoded data removed]",
       "text": [
        "<matplotlib.figure.Figure at 0x108747590>"
       ]
      }
     ],
     "prompt_number": 24
    },
    {
     "cell_type": "code",
     "collapsed": false,
     "input": [
      "population = pd.read_excel('poblacion_por_provincias.xls', 'poblacion')\n",
      "population['Provincia'] = population.Provincia.apply(to_ascii)\n",
      "population.columns = 'Provincia', 'Poblaci\u00f3n'\n",
      "population = population.set_index('Provincia')\n",
      "population"
     ],
     "language": "python",
     "metadata": {},
     "outputs": [
      {
       "html": [
        "<div style=\"max-height:1000px;max-width:1500px;overflow:auto;\">\n",
        "<table border=\"1\" class=\"dataframe\">\n",
        "  <thead>\n",
        "    <tr style=\"text-align: right;\">\n",
        "      <th></th>\n",
        "      <th>Poblaci\u00f3n</th>\n",
        "    </tr>\n",
        "    <tr>\n",
        "      <th>Provincia</th>\n",
        "      <th></th>\n",
        "    </tr>\n",
        "  </thead>\n",
        "  <tbody>\n",
        "    <tr>\n",
        "      <th>AVILA</th>\n",
        "      <td> 169505</td>\n",
        "    </tr>\n",
        "    <tr>\n",
        "      <th>BURGOS</th>\n",
        "      <td> 367906</td>\n",
        "    </tr>\n",
        "    <tr>\n",
        "      <th>LEON</th>\n",
        "      <td> 488991</td>\n",
        "    </tr>\n",
        "    <tr>\n",
        "      <th>PALENCIA</th>\n",
        "      <td> 168721</td>\n",
        "    </tr>\n",
        "    <tr>\n",
        "      <th>SALAMANCA</th>\n",
        "      <td> 347377</td>\n",
        "    </tr>\n",
        "    <tr>\n",
        "      <th>SEGOVIA</th>\n",
        "      <td> 161640</td>\n",
        "    </tr>\n",
        "    <tr>\n",
        "      <th>SORIA</th>\n",
        "      <td>  93389</td>\n",
        "    </tr>\n",
        "    <tr>\n",
        "      <th>VALLADOLID</th>\n",
        "      <td> 530590</td>\n",
        "    </tr>\n",
        "    <tr>\n",
        "      <th>ZAMORA</th>\n",
        "      <td> 189037</td>\n",
        "    </tr>\n",
        "  </tbody>\n",
        "</table>\n",
        "</div>"
       ],
       "metadata": {},
       "output_type": "pyout",
       "prompt_number": 25,
       "text": [
        "            Poblaci\u00f3n\n",
        "Provincia            \n",
        "AVILA          169505\n",
        "BURGOS         367906\n",
        "LEON           488991\n",
        "PALENCIA       168721\n",
        "SALAMANCA      347377\n",
        "SEGOVIA        161640\n",
        "SORIA           93389\n",
        "VALLADOLID     530590\n",
        "ZAMORA         189037"
       ]
      }
     ],
     "prompt_number": 25
    },
    {
     "cell_type": "code",
     "collapsed": false,
     "input": [
      "joined = population.join(by_provincia)\n",
      "joined"
     ],
     "language": "python",
     "metadata": {},
     "outputs": [
      {
       "html": [
        "<div style=\"max-height:1000px;max-width:1500px;overflow:auto;\">\n",
        "<table border=\"1\" class=\"dataframe\">\n",
        "  <thead>\n",
        "    <tr style=\"text-align: right;\">\n",
        "      <th></th>\n",
        "      <th>Poblaci\u00f3n</th>\n",
        "      <th>Bares</th>\n",
        "    </tr>\n",
        "    <tr>\n",
        "      <th>Provincia</th>\n",
        "      <th></th>\n",
        "      <th></th>\n",
        "    </tr>\n",
        "  </thead>\n",
        "  <tbody>\n",
        "    <tr>\n",
        "      <th>AVILA</th>\n",
        "      <td> 169505</td>\n",
        "      <td>NaN</td>\n",
        "    </tr>\n",
        "    <tr>\n",
        "      <th>BURGOS</th>\n",
        "      <td> 367906</td>\n",
        "      <td>NaN</td>\n",
        "    </tr>\n",
        "    <tr>\n",
        "      <th>LEON</th>\n",
        "      <td> 488991</td>\n",
        "      <td>NaN</td>\n",
        "    </tr>\n",
        "    <tr>\n",
        "      <th>PALENCIA</th>\n",
        "      <td> 168721</td>\n",
        "      <td>NaN</td>\n",
        "    </tr>\n",
        "    <tr>\n",
        "      <th>SALAMANCA</th>\n",
        "      <td> 347377</td>\n",
        "      <td>NaN</td>\n",
        "    </tr>\n",
        "    <tr>\n",
        "      <th>SEGOVIA</th>\n",
        "      <td> 161640</td>\n",
        "      <td>NaN</td>\n",
        "    </tr>\n",
        "    <tr>\n",
        "      <th>SORIA</th>\n",
        "      <td>  93389</td>\n",
        "      <td>NaN</td>\n",
        "    </tr>\n",
        "    <tr>\n",
        "      <th>VALLADOLID</th>\n",
        "      <td> 530590</td>\n",
        "      <td>NaN</td>\n",
        "    </tr>\n",
        "    <tr>\n",
        "      <th>ZAMORA</th>\n",
        "      <td> 189037</td>\n",
        "      <td>NaN</td>\n",
        "    </tr>\n",
        "  </tbody>\n",
        "</table>\n",
        "</div>"
       ],
       "metadata": {},
       "output_type": "pyout",
       "prompt_number": 26,
       "text": [
        "            Poblaci\u00f3n  Bares\n",
        "Provincia                   \n",
        "AVILA          169505    NaN\n",
        "BURGOS         367906    NaN\n",
        "LEON           488991    NaN\n",
        "PALENCIA       168721    NaN\n",
        "SALAMANCA      347377    NaN\n",
        "SEGOVIA        161640    NaN\n",
        "SORIA           93389    NaN\n",
        "VALLADOLID     530590    NaN\n",
        "ZAMORA         189037    NaN"
       ]
      }
     ],
     "prompt_number": 26
    },
    {
     "cell_type": "code",
     "collapsed": false,
     "input": [
      "by_provincia = by_provincia.set_index(by_provincia.index.map(lambda prov: to_ascii(prov)))"
     ],
     "language": "python",
     "metadata": {},
     "outputs": [],
     "prompt_number": 27
    },
    {
     "cell_type": "code",
     "collapsed": false,
     "input": [
      "joined = population.join(by_provincia)\n",
      "joined"
     ],
     "language": "python",
     "metadata": {},
     "outputs": [
      {
       "html": [
        "<div style=\"max-height:1000px;max-width:1500px;overflow:auto;\">\n",
        "<table border=\"1\" class=\"dataframe\">\n",
        "  <thead>\n",
        "    <tr style=\"text-align: right;\">\n",
        "      <th></th>\n",
        "      <th>Poblaci\u00f3n</th>\n",
        "      <th>Bares</th>\n",
        "    </tr>\n",
        "    <tr>\n",
        "      <th>Provincia</th>\n",
        "      <th></th>\n",
        "      <th></th>\n",
        "    </tr>\n",
        "  </thead>\n",
        "  <tbody>\n",
        "    <tr>\n",
        "      <th>AVILA</th>\n",
        "      <td> 169505</td>\n",
        "      <td> 1403</td>\n",
        "    </tr>\n",
        "    <tr>\n",
        "      <th>BURGOS</th>\n",
        "      <td> 367906</td>\n",
        "      <td> 1796</td>\n",
        "    </tr>\n",
        "    <tr>\n",
        "      <th>LEON</th>\n",
        "      <td> 488991</td>\n",
        "      <td> 2224</td>\n",
        "    </tr>\n",
        "    <tr>\n",
        "      <th>PALENCIA</th>\n",
        "      <td> 168721</td>\n",
        "      <td> 1057</td>\n",
        "    </tr>\n",
        "    <tr>\n",
        "      <th>SALAMANCA</th>\n",
        "      <td> 347377</td>\n",
        "      <td> 1341</td>\n",
        "    </tr>\n",
        "    <tr>\n",
        "      <th>SEGOVIA</th>\n",
        "      <td> 161640</td>\n",
        "      <td>  804</td>\n",
        "    </tr>\n",
        "    <tr>\n",
        "      <th>SORIA</th>\n",
        "      <td>  93389</td>\n",
        "      <td>  353</td>\n",
        "    </tr>\n",
        "    <tr>\n",
        "      <th>VALLADOLID</th>\n",
        "      <td> 530590</td>\n",
        "      <td> 3724</td>\n",
        "    </tr>\n",
        "    <tr>\n",
        "      <th>ZAMORA</th>\n",
        "      <td> 189037</td>\n",
        "      <td> 1282</td>\n",
        "    </tr>\n",
        "  </tbody>\n",
        "</table>\n",
        "</div>"
       ],
       "metadata": {},
       "output_type": "pyout",
       "prompt_number": 28,
       "text": [
        "            Poblaci\u00f3n  Bares\n",
        "Provincia                   \n",
        "AVILA          169505   1403\n",
        "BURGOS         367906   1796\n",
        "LEON           488991   2224\n",
        "PALENCIA       168721   1057\n",
        "SALAMANCA      347377   1341\n",
        "SEGOVIA        161640    804\n",
        "SORIA           93389    353\n",
        "VALLADOLID     530590   3724\n",
        "ZAMORA         189037   1282"
       ]
      }
     ],
     "prompt_number": 28
    },
    {
     "cell_type": "code",
     "collapsed": false,
     "input": [
      "joined['Poblaci\u00f3n'].sum()"
     ],
     "language": "python",
     "metadata": {},
     "outputs": [
      {
       "metadata": {},
       "output_type": "pyout",
       "prompt_number": 29,
       "text": [
        "2517156.0"
       ]
      }
     ],
     "prompt_number": 29
    },
    {
     "cell_type": "code",
     "collapsed": false,
     "input": [
      "joined.Bares.std()"
     ],
     "language": "python",
     "metadata": {},
     "outputs": [
      {
       "metadata": {},
       "output_type": "pyout",
       "prompt_number": 30,
       "text": [
        "975.3478581739156"
       ]
      }
     ],
     "prompt_number": 30
    },
    {
     "cell_type": "code",
     "collapsed": false,
     "input": [
      "joined[['Poblaci\u00f3n', 'Bares']].corr()"
     ],
     "language": "python",
     "metadata": {},
     "outputs": [
      {
       "html": [
        "<div style=\"max-height:1000px;max-width:1500px;overflow:auto;\">\n",
        "<table border=\"1\" class=\"dataframe\">\n",
        "  <thead>\n",
        "    <tr style=\"text-align: right;\">\n",
        "      <th></th>\n",
        "      <th>Poblaci\u00f3n</th>\n",
        "      <th>Bares</th>\n",
        "    </tr>\n",
        "  </thead>\n",
        "  <tbody>\n",
        "    <tr>\n",
        "      <th>Poblaci\u00f3n</th>\n",
        "      <td> 1.000000</td>\n",
        "      <td> 0.890913</td>\n",
        "    </tr>\n",
        "    <tr>\n",
        "      <th>Bares</th>\n",
        "      <td> 0.890913</td>\n",
        "      <td> 1.000000</td>\n",
        "    </tr>\n",
        "  </tbody>\n",
        "</table>\n",
        "</div>"
       ],
       "metadata": {},
       "output_type": "pyout",
       "prompt_number": 32,
       "text": [
        "           Poblaci\u00f3n     Bares\n",
        "Poblaci\u00f3n   1.000000  0.890913\n",
        "Bares       0.890913  1.000000"
       ]
      }
     ],
     "prompt_number": 32
    },
    {
     "cell_type": "code",
     "collapsed": false,
     "input": [
      "# habitantes por bar CyL?"
     ],
     "language": "python",
     "metadata": {},
     "outputs": [],
     "prompt_number": 533
    },
    {
     "cell_type": "code",
     "collapsed": false,
     "input": [
      "joined['Habitantes por bar'] = joined['Poblaci\u00f3n'].astype(float) / joined.Bares\n",
      "joined['Habitantes por bar'] = joined['Habitantes por bar'].apply(round)\n",
      "joined['% Bares'] = joined.Bares.apply(lambda number: round(100 * number / joined.Bares.sum().astype(float), 1))\n",
      "joined['% Poblaci\u00f3n'] = joined['Poblaci\u00f3n'].apply(lambda people: round(100 * people / joined['Poblaci\u00f3n'].sum().astype(float), 1))\n",
      "joined"
     ],
     "language": "python",
     "metadata": {},
     "outputs": [
      {
       "html": [
        "<div style=\"max-height:1000px;max-width:1500px;overflow:auto;\">\n",
        "<table border=\"1\" class=\"dataframe\">\n",
        "  <thead>\n",
        "    <tr style=\"text-align: right;\">\n",
        "      <th></th>\n",
        "      <th>Poblaci\u00f3n</th>\n",
        "      <th>Bares</th>\n",
        "      <th>Habitantes por bar</th>\n",
        "      <th>% Bares</th>\n",
        "      <th>% Poblaci\u00f3n</th>\n",
        "    </tr>\n",
        "    <tr>\n",
        "      <th>Provincia</th>\n",
        "      <th></th>\n",
        "      <th></th>\n",
        "      <th></th>\n",
        "      <th></th>\n",
        "      <th></th>\n",
        "    </tr>\n",
        "  </thead>\n",
        "  <tbody>\n",
        "    <tr>\n",
        "      <th>AVILA</th>\n",
        "      <td> 169505</td>\n",
        "      <td> 1403</td>\n",
        "      <td> 121</td>\n",
        "      <td> 10.0</td>\n",
        "      <td>  6.7</td>\n",
        "    </tr>\n",
        "    <tr>\n",
        "      <th>BURGOS</th>\n",
        "      <td> 367906</td>\n",
        "      <td> 1796</td>\n",
        "      <td> 205</td>\n",
        "      <td> 12.8</td>\n",
        "      <td> 14.6</td>\n",
        "    </tr>\n",
        "    <tr>\n",
        "      <th>LEON</th>\n",
        "      <td> 488991</td>\n",
        "      <td> 2224</td>\n",
        "      <td> 220</td>\n",
        "      <td> 15.9</td>\n",
        "      <td> 19.4</td>\n",
        "    </tr>\n",
        "    <tr>\n",
        "      <th>PALENCIA</th>\n",
        "      <td> 168721</td>\n",
        "      <td> 1057</td>\n",
        "      <td> 160</td>\n",
        "      <td>  7.6</td>\n",
        "      <td>  6.7</td>\n",
        "    </tr>\n",
        "    <tr>\n",
        "      <th>SALAMANCA</th>\n",
        "      <td> 347377</td>\n",
        "      <td> 1341</td>\n",
        "      <td> 259</td>\n",
        "      <td>  9.6</td>\n",
        "      <td> 13.8</td>\n",
        "    </tr>\n",
        "    <tr>\n",
        "      <th>SEGOVIA</th>\n",
        "      <td> 161640</td>\n",
        "      <td>  804</td>\n",
        "      <td> 201</td>\n",
        "      <td>  5.7</td>\n",
        "      <td>  6.4</td>\n",
        "    </tr>\n",
        "    <tr>\n",
        "      <th>SORIA</th>\n",
        "      <td>  93389</td>\n",
        "      <td>  353</td>\n",
        "      <td> 265</td>\n",
        "      <td>  2.5</td>\n",
        "      <td>  3.7</td>\n",
        "    </tr>\n",
        "    <tr>\n",
        "      <th>VALLADOLID</th>\n",
        "      <td> 530590</td>\n",
        "      <td> 3724</td>\n",
        "      <td> 142</td>\n",
        "      <td> 26.6</td>\n",
        "      <td> 21.1</td>\n",
        "    </tr>\n",
        "    <tr>\n",
        "      <th>ZAMORA</th>\n",
        "      <td> 189037</td>\n",
        "      <td> 1282</td>\n",
        "      <td> 147</td>\n",
        "      <td>  9.2</td>\n",
        "      <td>  7.5</td>\n",
        "    </tr>\n",
        "  </tbody>\n",
        "</table>\n",
        "</div>"
       ],
       "metadata": {},
       "output_type": "pyout",
       "prompt_number": 33,
       "text": [
        "            Poblaci\u00f3n  Bares  Habitantes por bar  % Bares  % Poblaci\u00f3n\n",
        "Provincia                                                             \n",
        "AVILA          169505   1403                 121     10.0          6.7\n",
        "BURGOS         367906   1796                 205     12.8         14.6\n",
        "LEON           488991   2224                 220     15.9         19.4\n",
        "PALENCIA       168721   1057                 160      7.6          6.7\n",
        "SALAMANCA      347377   1341                 259      9.6         13.8\n",
        "SEGOVIA        161640    804                 201      5.7          6.4\n",
        "SORIA           93389    353                 265      2.5          3.7\n",
        "VALLADOLID     530590   3724                 142     26.6         21.1\n",
        "ZAMORA         189037   1282                 147      9.2          7.5"
       ]
      }
     ],
     "prompt_number": 33
    },
    {
     "cell_type": "code",
     "collapsed": false,
     "input": [
      "# Bares, poblaci\u00f3n plot?"
     ],
     "language": "python",
     "metadata": {},
     "outputs": [],
     "prompt_number": 34
    },
    {
     "cell_type": "code",
     "collapsed": false,
     "input": [
      "pob_bar = joined[['Poblaci\u00f3n', 'Bares']]\n",
      "\n",
      "pob_bar.Bares.plot()\n",
      "pob_bar['Poblaci\u00f3n'].plot()\n",
      "\n",
      "#.set_index(by_provincia.index.map(lambda x: x[:2]))\n",
      "# rot=20\n",
      "#secondary_y=True, style='g'"
     ],
     "language": "python",
     "metadata": {},
     "outputs": [
      {
       "metadata": {},
       "output_type": "pyout",
       "prompt_number": 35,
       "text": [
        "<matplotlib.axes.AxesSubplot at 0x109900d50>"
       ]
      },
      {
       "metadata": {},
       "output_type": "display_data",
       "png": "[encoded data removed]",
       "text": [
        "<matplotlib.figure.Figure at 0x1097f1d50>"
       ]
      }
     ],
     "prompt_number": 35
    },
    {
     "cell_type": "code",
     "collapsed": false,
     "input": [
      "pd.tools.plotting.scatter_plot(joined, 'Poblaci\u00f3n', 'Bares')\n",
      "\n"
     ],
     "language": "python",
     "metadata": {},
     "outputs": [
      {
       "metadata": {},
       "output_type": "pyout",
       "png": "[encoded data removed]",
       "prompt_number": 36,
       "text": [
        "<matplotlib.figure.Figure at 0x109828e10>"
       ]
      },
      {
       "metadata": {},
       "output_type": "display_data",
       "png": "[encoded data removed]",
       "text": [
        "<matplotlib.figure.Figure at 0x109828e10>"
       ]
      }
     ],
     "prompt_number": 36
    },
    {
     "cell_type": "code",
     "collapsed": false,
     "input": [
      "pd.tools.plotting.scatter_plot(joined, 'Poblaci\u00f3n', 'Bares')\n",
      "\n",
      "for label, x, y in zip(joined.index, joined['Poblaci\u00f3n'], joined['Bares']):\n",
      "    plt.annotate(\n",
      "        label, \n",
      "        xy = (x, y), xytext = (-10, 10),\n",
      "        textcoords = 'offset points', ha = 'center', va = 'bottom')\n",
      "        #bbox = dict(boxstyle = 'round,pad=0.5', fc = 'yellow', alpha = 0.2))"
     ],
     "language": "python",
     "metadata": {},
     "outputs": [
      {
       "metadata": {},
       "output_type": "display_data",
       "png": "[encoded data removed]",
       "text": [
        "<matplotlib.figure.Figure at 0x1154dc3d0>"
       ]
      }
     ],
     "prompt_number": 539
    },
    {
     "cell_type": "code",
     "collapsed": false,
     "input": [
      "def scatter_and_fit(joined, figsize=(8, 6)):\n",
      "    from pylab import polyfit, poly1d\n",
      "    \n",
      "    fit = polyfit(joined['Poblaci\u00f3n'], joined['Bares'], 1)\n",
      "    fit_fn = poly1d(fit)\n",
      "    \n",
      "    plt.figure(figsize=figsize, dpi=160)\n",
      "    plt.plot(\n",
      "        joined['Poblaci\u00f3n'],\n",
      "        joined['Bares'],\n",
      "        'bo',\n",
      "        joined['Poblaci\u00f3n'],\n",
      "        fit_fn(joined['Poblaci\u00f3n']),\n",
      "        '--k');\n",
      "    \n",
      "    \n",
      "    for label, x, y in zip(joined.index, joined['Poblaci\u00f3n'], joined['Bares']):\n",
      "        plt.annotate(\n",
      "            label, \n",
      "            xy = (x, y), xytext = (-10, 10),\n",
      "            textcoords = 'offset points', ha = 'center', va = 'bottom',)\n",
      "\n",
      "scatter_and_fit(joined)"
     ],
     "language": "python",
     "metadata": {},
     "outputs": [
      {
       "metadata": {},
       "output_type": "display_data",
       "png": "[encoded data removed]",
       "text": [
        "<matplotlib.figure.Figure at 0x1097f9d10>"
       ]
      }
     ],
     "prompt_number": 37
    },
    {
     "cell_type": "code",
     "collapsed": false,
     "input": [
      "initial_length = len(bars)\n",
      "\n",
      "capitals = [to_ascii(provincia) for provincia in bars.Provincia.unique()]\n",
      "bars_caps = bars[bars.Localidad.apply(lambda x: x in capitals)]\n",
      "\n",
      "print initial_length - len(bars_caps), '/', initial_length, \"bars not in capitals discarded.\",\n",
      "print len(bars_caps), \"bars left.\""
     ],
     "language": "python",
     "metadata": {},
     "outputs": [
      {
       "output_type": "stream",
       "stream": "stdout",
       "text": [
        "8268 / 13984 bars not in capitals discarded. 5716 bars left.\n"
       ]
      }
     ],
     "prompt_number": 38
    },
    {
     "cell_type": "code",
     "collapsed": false,
     "input": [
      "by_municipio_gb = bars_caps.groupby('Municipio')\n",
      "by_municipio = pd.DataFrame({'Bares': by_municipio_gb.size()})\n",
      "by_municipio.set_index(by_municipio.index.map(to_ascii), inplace=True)\n",
      "by_municipio"
     ],
     "language": "python",
     "metadata": {},
     "outputs": [
      {
       "html": [
        "<div style=\"max-height:1000px;max-width:1500px;overflow:auto;\">\n",
        "<table border=\"1\" class=\"dataframe\">\n",
        "  <thead>\n",
        "    <tr style=\"text-align: right;\">\n",
        "      <th></th>\n",
        "      <th>Bares</th>\n",
        "    </tr>\n",
        "  </thead>\n",
        "  <tbody>\n",
        "    <tr>\n",
        "      <th>BURGOS</th>\n",
        "      <td>  756</td>\n",
        "    </tr>\n",
        "    <tr>\n",
        "      <th>LEON</th>\n",
        "      <td>  728</td>\n",
        "    </tr>\n",
        "    <tr>\n",
        "      <th>PALENCIA</th>\n",
        "      <td>  405</td>\n",
        "    </tr>\n",
        "    <tr>\n",
        "      <th>SALAMANCA</th>\n",
        "      <td>  589</td>\n",
        "    </tr>\n",
        "    <tr>\n",
        "      <th>SEGOVIA</th>\n",
        "      <td>  209</td>\n",
        "    </tr>\n",
        "    <tr>\n",
        "      <th>SORIA</th>\n",
        "      <td>  138</td>\n",
        "    </tr>\n",
        "    <tr>\n",
        "      <th>VALLADOLID</th>\n",
        "      <td> 2276</td>\n",
        "    </tr>\n",
        "    <tr>\n",
        "      <th>ZAMORA</th>\n",
        "      <td>  380</td>\n",
        "    </tr>\n",
        "    <tr>\n",
        "      <th>AVILA</th>\n",
        "      <td>  235</td>\n",
        "    </tr>\n",
        "  </tbody>\n",
        "</table>\n",
        "</div>"
       ],
       "metadata": {},
       "output_type": "pyout",
       "prompt_number": 39,
       "text": [
        "            Bares\n",
        "BURGOS        756\n",
        "LEON          728\n",
        "PALENCIA      405\n",
        "SALAMANCA     589\n",
        "SEGOVIA       209\n",
        "SORIA         138\n",
        "VALLADOLID   2276\n",
        "ZAMORA        380\n",
        "AVILA         235"
       ]
      }
     ],
     "prompt_number": 39
    },
    {
     "cell_type": "code",
     "collapsed": false,
     "input": [
      "population_caps = pd.read_excel('poblacion_por_provincias.xls', 'capitales', header=0, index_col='Capital')\n",
      "population_caps.set_index(population_caps.index.map(to_ascii), inplace=True)\n",
      "population_caps = population_caps.rename_axis({'Total': 'Poblaci\u00f3n'})\n",
      "population_caps"
     ],
     "language": "python",
     "metadata": {},
     "outputs": [
      {
       "html": [
        "<div style=\"max-height:1000px;max-width:1500px;overflow:auto;\">\n",
        "<table border=\"1\" class=\"dataframe\">\n",
        "  <thead>\n",
        "    <tr style=\"text-align: right;\">\n",
        "      <th></th>\n",
        "      <th>Poblaci\u00f3n</th>\n",
        "    </tr>\n",
        "  </thead>\n",
        "  <tbody>\n",
        "    <tr>\n",
        "      <th>AVILA</th>\n",
        "      <td>  59008</td>\n",
        "    </tr>\n",
        "    <tr>\n",
        "      <th>BURGOS</th>\n",
        "      <td> 178966</td>\n",
        "    </tr>\n",
        "    <tr>\n",
        "      <th>LEON</th>\n",
        "      <td> 134305</td>\n",
        "    </tr>\n",
        "    <tr>\n",
        "      <th>PALENCIA</th>\n",
        "      <td>  82651</td>\n",
        "    </tr>\n",
        "    <tr>\n",
        "      <th>SALAMANCA</th>\n",
        "      <td> 155619</td>\n",
        "    </tr>\n",
        "    <tr>\n",
        "      <th>SEGOVIA</th>\n",
        "      <td>  55220</td>\n",
        "    </tr>\n",
        "    <tr>\n",
        "      <th>SORIA</th>\n",
        "      <td>  39528</td>\n",
        "    </tr>\n",
        "    <tr>\n",
        "      <th>VALLADOLID</th>\n",
        "      <td> 317864</td>\n",
        "    </tr>\n",
        "    <tr>\n",
        "      <th>ZAMORA</th>\n",
        "      <td>  65525</td>\n",
        "    </tr>\n",
        "  </tbody>\n",
        "</table>\n",
        "</div>"
       ],
       "metadata": {},
       "output_type": "pyout",
       "prompt_number": 40,
       "text": [
        "            Poblaci\u00f3n\n",
        "AVILA           59008\n",
        "BURGOS         178966\n",
        "LEON           134305\n",
        "PALENCIA        82651\n",
        "SALAMANCA      155619\n",
        "SEGOVIA         55220\n",
        "SORIA           39528\n",
        "VALLADOLID     317864\n",
        "ZAMORA          65525"
       ]
      }
     ],
     "prompt_number": 40
    },
    {
     "cell_type": "code",
     "collapsed": false,
     "input": [
      "joined2 = pd.merge(by_municipio.reset_index(), population_caps.reset_index()).set_index('index')\n",
      "joined2"
     ],
     "language": "python",
     "metadata": {},
     "outputs": [
      {
       "html": [
        "<div style=\"max-height:1000px;max-width:1500px;overflow:auto;\">\n",
        "<table border=\"1\" class=\"dataframe\">\n",
        "  <thead>\n",
        "    <tr style=\"text-align: right;\">\n",
        "      <th></th>\n",
        "      <th>Bares</th>\n",
        "      <th>Poblaci\u00f3n</th>\n",
        "    </tr>\n",
        "    <tr>\n",
        "      <th>index</th>\n",
        "      <th></th>\n",
        "      <th></th>\n",
        "    </tr>\n",
        "  </thead>\n",
        "  <tbody>\n",
        "    <tr>\n",
        "      <th>BURGOS</th>\n",
        "      <td>  756</td>\n",
        "      <td> 178966</td>\n",
        "    </tr>\n",
        "    <tr>\n",
        "      <th>LEON</th>\n",
        "      <td>  728</td>\n",
        "      <td> 134305</td>\n",
        "    </tr>\n",
        "    <tr>\n",
        "      <th>PALENCIA</th>\n",
        "      <td>  405</td>\n",
        "      <td>  82651</td>\n",
        "    </tr>\n",
        "    <tr>\n",
        "      <th>SALAMANCA</th>\n",
        "      <td>  589</td>\n",
        "      <td> 155619</td>\n",
        "    </tr>\n",
        "    <tr>\n",
        "      <th>SEGOVIA</th>\n",
        "      <td>  209</td>\n",
        "      <td>  55220</td>\n",
        "    </tr>\n",
        "    <tr>\n",
        "      <th>SORIA</th>\n",
        "      <td>  138</td>\n",
        "      <td>  39528</td>\n",
        "    </tr>\n",
        "    <tr>\n",
        "      <th>VALLADOLID</th>\n",
        "      <td> 2276</td>\n",
        "      <td> 317864</td>\n",
        "    </tr>\n",
        "    <tr>\n",
        "      <th>ZAMORA</th>\n",
        "      <td>  380</td>\n",
        "      <td>  65525</td>\n",
        "    </tr>\n",
        "    <tr>\n",
        "      <th>AVILA</th>\n",
        "      <td>  235</td>\n",
        "      <td>  59008</td>\n",
        "    </tr>\n",
        "  </tbody>\n",
        "</table>\n",
        "</div>"
       ],
       "metadata": {},
       "output_type": "pyout",
       "prompt_number": 41,
       "text": [
        "            Bares  Poblaci\u00f3n\n",
        "index                       \n",
        "BURGOS        756     178966\n",
        "LEON          728     134305\n",
        "PALENCIA      405      82651\n",
        "SALAMANCA     589     155619\n",
        "SEGOVIA       209      55220\n",
        "SORIA         138      39528\n",
        "VALLADOLID   2276     317864\n",
        "ZAMORA        380      65525\n",
        "AVILA         235      59008"
       ]
      }
     ],
     "prompt_number": 41
    },
    {
     "cell_type": "code",
     "collapsed": false,
     "input": [
      "scatter_and_fit(joined)"
     ],
     "language": "python",
     "metadata": {},
     "outputs": [
      {
       "metadata": {},
       "output_type": "display_data",
       "png": "[encoded data removed]",
       "text": [
        "<matplotlib.figure.Figure at 0x1097f8ad0>"
       ]
      }
     ],
     "prompt_number": 42
    },
    {
     "cell_type": "code",
     "collapsed": false,
     "input": [
      "scatter_and_fit(joined2[joined2.index != 'VALLADOLID'], (7, 4))"
     ],
     "language": "python",
     "metadata": {},
     "outputs": [
      {
       "metadata": {},
       "output_type": "display_data",
       "png": "[encoded data removed]",
       "text": [
        "<matplotlib.figure.Figure at 0x1098a3d50>"
       ]
      }
     ],
     "prompt_number": 43
    },
    {
     "cell_type": "code",
     "collapsed": false,
     "input": [
      "scatter_and_fit(joined[joined.index != 'VALLADOLID'], (7, 4))"
     ],
     "language": "python",
     "metadata": {},
     "outputs": [
      {
       "metadata": {},
       "output_type": "display_data",
       "png": "[encoded data removed]",
       "text": [
        "<matplotlib.figure.Figure at 0x109875fd0>"
       ]
      }
     ],
     "prompt_number": 44
    },
    {
     "cell_type": "code",
     "collapsed": false,
     "input": [
      "joined2['Bares por 10K hab'] = 10**4 * joined2['Bares'] / joined2['Poblaci\u00f3n']\n",
      "joined2['Bares por 10K hab'] = joined2['Bares por 10K hab'].apply(round)\n",
      "joined2.sort('Bares por 10K hab')['Bares por 10K hab'].plot(rot=20)"
     ],
     "language": "python",
     "metadata": {},
     "outputs": [
      {
       "metadata": {},
       "output_type": "pyout",
       "prompt_number": 45,
       "text": [
        "<matplotlib.axes.AxesSubplot at 0x1098ad990>"
       ]
      },
      {
       "metadata": {},
       "output_type": "display_data",
       "png": "[encoded data removed]",
       "text": [
        "<matplotlib.figure.Figure at 0x10988e990>"
       ]
      }
     ],
     "prompt_number": 45
    },
    {
     "cell_type": "code",
     "collapsed": false,
     "input": [
      "localidades = bars.copy()\n",
      "localidades['Localidad'] = localidades['Localidad'].apply(\n",
      "    lambda x: to_ascii(x.split(' (')[0]).upper()) + ', ' + localidades['Provincia'].apply(lambda x: to_ascii(x).upper())\n",
      "por_localidad = pd.DataFrame({'Bares': localidades.groupby('Localidad').size()})\n",
      "por_localidad[por_localidad.Bares >= 10]\n",
      "por_localidad"
     ],
     "language": "python",
     "metadata": {},
     "outputs": [
      {
       "html": [
        "<pre>\n",
        "&lt;class 'pandas.core.frame.DataFrame'&gt;\n",
        "Index: 2025 entries, ABADES, SEGOVIA to ZUZONES, BURGOS\n",
        "Data columns (total 1 columns):\n",
        "Bares    2025  non-null values\n",
        "dtypes: int64(1)\n",
        "</pre>"
       ],
       "metadata": {},
       "output_type": "pyout",
       "prompt_number": 46,
       "text": [
        "<class 'pandas.core.frame.DataFrame'>\n",
        "Index: 2025 entries, ABADES, SEGOVIA to ZUZONES, BURGOS\n",
        "Data columns (total 1 columns):\n",
        "Bares    2025  non-null values\n",
        "dtypes: int64(1)"
       ]
      }
     ],
     "prompt_number": 46
    },
    {
     "cell_type": "code",
     "collapsed": false,
     "input": [
      "por_localidad.head(10)"
     ],
     "language": "python",
     "metadata": {},
     "outputs": [
      {
       "html": [
        "<div style=\"max-height:1000px;max-width:1500px;overflow:auto;\">\n",
        "<table border=\"1\" class=\"dataframe\">\n",
        "  <thead>\n",
        "    <tr style=\"text-align: right;\">\n",
        "      <th></th>\n",
        "      <th>Bares</th>\n",
        "    </tr>\n",
        "    <tr>\n",
        "      <th>Localidad</th>\n",
        "      <th></th>\n",
        "    </tr>\n",
        "  </thead>\n",
        "  <tbody>\n",
        "    <tr>\n",
        "      <th>ABADES, SEGOVIA</th>\n",
        "      <td> 4</td>\n",
        "    </tr>\n",
        "    <tr>\n",
        "      <th>ABEJAR, SORIA</th>\n",
        "      <td> 1</td>\n",
        "    </tr>\n",
        "    <tr>\n",
        "      <th>ABEJERA, ZAMORA</th>\n",
        "      <td> 1</td>\n",
        "    </tr>\n",
        "    <tr>\n",
        "      <th>ABELGAS DE LUNA, LEON</th>\n",
        "      <td> 1</td>\n",
        "    </tr>\n",
        "    <tr>\n",
        "      <th>ABELON, ZAMORA</th>\n",
        "      <td> 2</td>\n",
        "    </tr>\n",
        "    <tr>\n",
        "      <th>ABRAVESES DE TERA, ZAMORA</th>\n",
        "      <td> 1</td>\n",
        "    </tr>\n",
        "    <tr>\n",
        "      <th>ABUSEJO, SALAMANCA</th>\n",
        "      <td> 1</td>\n",
        "    </tr>\n",
        "    <tr>\n",
        "      <th>ACEBEDO, LEON</th>\n",
        "      <td> 1</td>\n",
        "    </tr>\n",
        "    <tr>\n",
        "      <th>ACEBES DEL PARAMO, LEON</th>\n",
        "      <td> 1</td>\n",
        "    </tr>\n",
        "    <tr>\n",
        "      <th>ADANERO, AVILA</th>\n",
        "      <td> 4</td>\n",
        "    </tr>\n",
        "  </tbody>\n",
        "</table>\n",
        "</div>"
       ],
       "metadata": {},
       "output_type": "pyout",
       "prompt_number": 47,
       "text": [
        "                           Bares\n",
        "Localidad                       \n",
        "ABADES, SEGOVIA                4\n",
        "ABEJAR, SORIA                  1\n",
        "ABEJERA, ZAMORA                1\n",
        "ABELGAS DE LUNA, LEON          1\n",
        "ABELON, ZAMORA                 2\n",
        "ABRAVESES DE TERA, ZAMORA      1\n",
        "ABUSEJO, SALAMANCA             1\n",
        "ACEBEDO, LEON                  1\n",
        "ACEBES DEL PARAMO, LEON        1\n",
        "ADANERO, AVILA                 4"
       ]
      }
     ],
     "prompt_number": 47
    },
    {
     "cell_type": "code",
     "collapsed": false,
     "input": [
      "# http://www.jcyl.es/web/jcyl/Estadistica/es/Plantilla100/1284253352941/_/_/_\n",
      "\n",
      "population_locs = pd.DataFrame()\n",
      "\n",
      "for prov in joined.index:\n",
      "    population_loc = pd.read_excel('poblacion_por_localidad.xls', prov, header=0, index_col='Localidad')\n",
      "    population_loc = population_loc.set_index(population_loc.index.map(\n",
      "        lambda x: '{}, {}'.format(to_ascii(x).strip().split(', ')[0], prov)))\n",
      "    population_loc = population_loc.rename_axis({'Total': 'Poblaci\u00f3n'})\n",
      "    # print '{} + {}'.format(len(population_loc), len(df))\n",
      "    population_locs = pd.concat([population_locs, population_loc])"
     ],
     "language": "python",
     "metadata": {},
     "outputs": [],
     "prompt_number": 48
    },
    {
     "cell_type": "code",
     "collapsed": false,
     "input": [
      "population_locs.head()"
     ],
     "language": "python",
     "metadata": {},
     "outputs": [
      {
       "html": [
        "<div style=\"max-height:1000px;max-width:1500px;overflow:auto;\">\n",
        "<table border=\"1\" class=\"dataframe\">\n",
        "  <thead>\n",
        "    <tr style=\"text-align: right;\">\n",
        "      <th></th>\n",
        "      <th>Poblaci\u00f3n</th>\n",
        "    </tr>\n",
        "  </thead>\n",
        "  <tbody>\n",
        "    <tr>\n",
        "      <th>ADANERO, AVILA</th>\n",
        "      <td>  266</td>\n",
        "    </tr>\n",
        "    <tr>\n",
        "      <th>ADRADA, AVILA</th>\n",
        "      <td> 2704</td>\n",
        "    </tr>\n",
        "    <tr>\n",
        "      <th>ALBORNOS, AVILA</th>\n",
        "      <td>  218</td>\n",
        "    </tr>\n",
        "    <tr>\n",
        "      <th>ALDEANUEVA DE SANTA CRUZ, AVILA</th>\n",
        "      <td>  136</td>\n",
        "    </tr>\n",
        "    <tr>\n",
        "      <th>ALDEASECA, AVILA</th>\n",
        "      <td>  273</td>\n",
        "    </tr>\n",
        "  </tbody>\n",
        "</table>\n",
        "</div>"
       ],
       "metadata": {},
       "output_type": "pyout",
       "prompt_number": 49,
       "text": [
        "                                 Poblaci\u00f3n\n",
        "ADANERO, AVILA                         266\n",
        "ADRADA, AVILA                         2704\n",
        "ALBORNOS, AVILA                        218\n",
        "ALDEANUEVA DE SANTA CRUZ, AVILA        136\n",
        "ALDEASECA, AVILA                       273"
       ]
      }
     ],
     "prompt_number": 49
    },
    {
     "cell_type": "code",
     "collapsed": false,
     "input": [
      "print len(por_localidad), len(population_locs)\n",
      "print sum([ix in por_localidad.index for ix in population_locs.index])"
     ],
     "language": "python",
     "metadata": {},
     "outputs": [
      {
       "output_type": "stream",
       "stream": "stdout",
       "text": [
        "2025 2248\n",
        "1382\n"
       ]
      }
     ],
     "prompt_number": 50
    },
    {
     "cell_type": "code",
     "collapsed": false,
     "input": [
      "df = por_localidad.join(population_locs, how='inner')\n",
      "df"
     ],
     "language": "python",
     "metadata": {},
     "outputs": [
      {
       "html": [
        "<pre>\n",
        "&lt;class 'pandas.core.frame.DataFrame'&gt;\n",
        "Index: 1382 entries, ADANERO, AVILA to ZAMORA, ZAMORA\n",
        "Data columns (total 2 columns):\n",
        "Bares        1382  non-null values\n",
        "Poblaci\u00f3n    1382  non-null values\n",
        "dtypes: float64(1), int64(1)\n",
        "</pre>"
       ],
       "metadata": {},
       "output_type": "pyout",
       "prompt_number": 51,
       "text": [
        "<class 'pandas.core.frame.DataFrame'>\n",
        "Index: 1382 entries, ADANERO, AVILA to ZAMORA, ZAMORA\n",
        "Data columns (total 2 columns):\n",
        "Bares        1382  non-null values\n",
        "Poblaci\u00f3n    1382  non-null values\n",
        "dtypes: float64(1), int64(1)"
       ]
      }
     ],
     "prompt_number": 51
    },
    {
     "cell_type": "code",
     "collapsed": false,
     "input": [
      "df.columns"
     ],
     "language": "python",
     "metadata": {},
     "outputs": [
      {
       "metadata": {},
       "output_type": "pyout",
       "prompt_number": 52,
       "text": [
        "Index([u'Bares', u'Poblaci\u00f3n'], dtype=object)"
       ]
      }
     ],
     "prompt_number": 52
    },
    {
     "cell_type": "code",
     "collapsed": false,
     "input": [
      "df['Habitantes por bar'] = df[u'Poblaci\u00f3n'] / df.Bares\n",
      "df.head()"
     ],
     "language": "python",
     "metadata": {},
     "outputs": [
      {
       "html": [
        "<div style=\"max-height:1000px;max-width:1500px;overflow:auto;\">\n",
        "<table border=\"1\" class=\"dataframe\">\n",
        "  <thead>\n",
        "    <tr style=\"text-align: right;\">\n",
        "      <th></th>\n",
        "      <th>Bares</th>\n",
        "      <th>Poblaci\u00f3n</th>\n",
        "      <th>Habitantes por bar</th>\n",
        "    </tr>\n",
        "    <tr>\n",
        "      <th>Localidad</th>\n",
        "      <th></th>\n",
        "      <th></th>\n",
        "      <th></th>\n",
        "    </tr>\n",
        "  </thead>\n",
        "  <tbody>\n",
        "    <tr>\n",
        "      <th>ADANERO, AVILA</th>\n",
        "      <td>  4</td>\n",
        "      <td>  266</td>\n",
        "      <td>  66.50</td>\n",
        "    </tr>\n",
        "    <tr>\n",
        "      <th>ADRADA, AVILA</th>\n",
        "      <td> 25</td>\n",
        "      <td> 2704</td>\n",
        "      <td> 108.16</td>\n",
        "    </tr>\n",
        "    <tr>\n",
        "      <th>ALBORNOS, AVILA</th>\n",
        "      <td>  2</td>\n",
        "      <td>  218</td>\n",
        "      <td> 109.00</td>\n",
        "    </tr>\n",
        "    <tr>\n",
        "      <th>ALDEANUEVA DE SANTA CRUZ, AVILA</th>\n",
        "      <td>  2</td>\n",
        "      <td>  136</td>\n",
        "      <td>  68.00</td>\n",
        "    </tr>\n",
        "    <tr>\n",
        "      <th>ALDEASECA, AVILA</th>\n",
        "      <td>  1</td>\n",
        "      <td>  273</td>\n",
        "      <td> 273.00</td>\n",
        "    </tr>\n",
        "  </tbody>\n",
        "</table>\n",
        "</div>"
       ],
       "metadata": {},
       "output_type": "pyout",
       "prompt_number": 53,
       "text": [
        "                                 Bares  Poblaci\u00f3n  Habitantes por bar\n",
        "Localidad                                                            \n",
        "ADANERO, AVILA                       4        266               66.50\n",
        "ADRADA, AVILA                       25       2704              108.16\n",
        "ALBORNOS, AVILA                      2        218              109.00\n",
        "ALDEANUEVA DE SANTA CRUZ, AVILA      2        136               68.00\n",
        "ALDEASECA, AVILA                     1        273              273.00"
       ]
      }
     ],
     "prompt_number": 53
    },
    {
     "cell_type": "code",
     "collapsed": false,
     "input": [
      "df[df.Bares >= 50].sort('Habitantes por bar').head(10)"
     ],
     "language": "python",
     "metadata": {},
     "outputs": [
      {
       "html": [
        "<div style=\"max-height:1000px;max-width:1500px;overflow:auto;\">\n",
        "<table border=\"1\" class=\"dataframe\">\n",
        "  <thead>\n",
        "    <tr style=\"text-align: right;\">\n",
        "      <th></th>\n",
        "      <th>Bares</th>\n",
        "      <th>Poblaci\u00f3n</th>\n",
        "      <th>Habitantes por bar</th>\n",
        "    </tr>\n",
        "    <tr>\n",
        "      <th>Localidad</th>\n",
        "      <th></th>\n",
        "      <th></th>\n",
        "      <th></th>\n",
        "    </tr>\n",
        "  </thead>\n",
        "  <tbody>\n",
        "    <tr>\n",
        "      <th>MEDINA DE RIOSECO, VALLADOLID</th>\n",
        "      <td>   69</td>\n",
        "      <td>   4967</td>\n",
        "      <td>  71.985507</td>\n",
        "    </tr>\n",
        "    <tr>\n",
        "      <th>GUARDO, PALENCIA</th>\n",
        "      <td>   76</td>\n",
        "      <td>   7027</td>\n",
        "      <td>  92.460526</td>\n",
        "    </tr>\n",
        "    <tr>\n",
        "      <th>PENAFIEL, VALLADOLID</th>\n",
        "      <td>   58</td>\n",
        "      <td>   5628</td>\n",
        "      <td>  97.034483</td>\n",
        "    </tr>\n",
        "    <tr>\n",
        "      <th>TORDESILLAS, VALLADOLID</th>\n",
        "      <td>   88</td>\n",
        "      <td>   9186</td>\n",
        "      <td> 104.386364</td>\n",
        "    </tr>\n",
        "    <tr>\n",
        "      <th>MEDINA DE POMAR, BURGOS</th>\n",
        "      <td>   59</td>\n",
        "      <td>   6238</td>\n",
        "      <td> 105.728814</td>\n",
        "    </tr>\n",
        "    <tr>\n",
        "      <th>MEDINA DEL CAMPO, VALLADOLID</th>\n",
        "      <td>  185</td>\n",
        "      <td>  21594</td>\n",
        "      <td> 116.724324</td>\n",
        "    </tr>\n",
        "    <tr>\n",
        "      <th>AREVALO, AVILA</th>\n",
        "      <td>   64</td>\n",
        "      <td>   8118</td>\n",
        "      <td> 126.843750</td>\n",
        "    </tr>\n",
        "    <tr>\n",
        "      <th>AGUILAR DE CAMPOO, PALENCIA</th>\n",
        "      <td>   54</td>\n",
        "      <td>   7203</td>\n",
        "      <td> 133.388889</td>\n",
        "    </tr>\n",
        "    <tr>\n",
        "      <th>VALLADOLID, VALLADOLID</th>\n",
        "      <td> 2276</td>\n",
        "      <td> 311501</td>\n",
        "      <td> 136.863357</td>\n",
        "    </tr>\n",
        "    <tr>\n",
        "      <th>BENAVENTE, ZAMORA</th>\n",
        "      <td>  127</td>\n",
        "      <td>  19259</td>\n",
        "      <td> 151.645669</td>\n",
        "    </tr>\n",
        "  </tbody>\n",
        "</table>\n",
        "</div>"
       ],
       "metadata": {},
       "output_type": "pyout",
       "prompt_number": 55,
       "text": [
        "                               Bares  Poblaci\u00f3n  Habitantes por bar\n",
        "Localidad                                                          \n",
        "MEDINA DE RIOSECO, VALLADOLID     69       4967           71.985507\n",
        "GUARDO, PALENCIA                  76       7027           92.460526\n",
        "PENAFIEL, VALLADOLID              58       5628           97.034483\n",
        "TORDESILLAS, VALLADOLID           88       9186          104.386364\n",
        "MEDINA DE POMAR, BURGOS           59       6238          105.728814\n",
        "MEDINA DEL CAMPO, VALLADOLID     185      21594          116.724324\n",
        "AREVALO, AVILA                    64       8118          126.843750\n",
        "AGUILAR DE CAMPOO, PALENCIA       54       7203          133.388889\n",
        "VALLADOLID, VALLADOLID          2276     311501          136.863357\n",
        "BENAVENTE, ZAMORA                127      19259          151.645669"
       ]
      }
     ],
     "prompt_number": 55
    },
    {
     "cell_type": "code",
     "collapsed": false,
     "input": [],
     "language": "python",
     "metadata": {},
     "outputs": []
    }
   ],
   "metadata": {}
  }
 ]
}