{
 "metadata": {
  "name": ""
 },
 "nbformat": 3,
 "nbformat_minor": 0,
 "worksheets": [
  {
   "cells": [
    {
     "cell_type": "markdown",
     "metadata": {},
     "source": [
      "# Pandas bowling: convierte tus datos en informaci\u00f3n\n",
      "*Introducci\u00f3n a la manipulaci\u00f3n de datos utilizando pandas contra un set de datos p\u00fablicos. Data munging: filtering, merging, grouping, estad\u00edsticas comunes e introducci\u00f3n al plotting.*"
     ]
    },
    {
     "cell_type": "markdown",
     "metadata": {},
     "source": [
      "![Pandas bowling](http://i50.tinypic.com/k30phw.gif)"
     ]
    },
    {
     "cell_type": "code",
     "collapsed": false,
     "input": [
      "import pandas as pd\n",
      "import csv\n",
      "import re\n",
      "import unicodedata"
     ],
     "language": "python",
     "metadata": {},
     "outputs": [],
     "prompt_number": 1
    },
    {
     "cell_type": "code",
     "collapsed": false,
     "input": [
      "# Delimiter ; \n",
      "# Awkward encoding\n",
      "\n",
      "dialect = csv.excel()\n",
      "dialect.delimiter = ';'\n",
      "# Source: http://www.datosabiertos.jcyl.es/web/jcyl/risp/es/directorio/bares/1284211832884.csv\n",
      "bars = pd.read_csv('bares.csv', dialect=dialect, encoding='cp1252')\n",
      "\n",
      "to_ascii = lambda text: unicodedata.normalize('NFKD', text).encode('ASCII', 'ignore').upper()"
     ],
     "language": "python",
     "metadata": {},
     "outputs": [],
     "prompt_number": 2
    },
    {
     "cell_type": "code",
     "collapsed": false,
     "input": [
      "bars"
     ],
     "language": "python",
     "metadata": {},
     "outputs": [
      {
       "html": [
        "<pre>\n",
        "&lt;class 'pandas.core.frame.DataFrame'&gt;\n",
        "Int64Index: 13984 entries, 0 to 13983\n",
        "Data columns (total 15 columns):\n",
        "Nombre         13984  non-null values\n",
        "Direcci\u00f3n      13915  non-null values\n",
        "C.Postal       13958  non-null values\n",
        "Provincia      13984  non-null values\n",
        "Municipio      13984  non-null values\n",
        "Localidad      13984  non-null values\n",
        "Nucleo         9786  non-null values\n",
        "Tel\u00e9fono 1     11849  non-null values\n",
        "Tel\u00e9fono 2     658  non-null values\n",
        "Tel\u00e9fono 3     21  non-null values\n",
        "Fax            45  non-null values\n",
        "Email          255  non-null values\n",
        "web            39  non-null values\n",
        "Q Calidad      0  non-null values\n",
        "Unnamed: 14    0  non-null values\n",
        "dtypes: float64(2), object(13)\n",
        "</pre>"
       ],
       "metadata": {},
       "output_type": "pyout",
       "prompt_number": 3,
       "text": [
        "<class 'pandas.core.frame.DataFrame'>\n",
        "Int64Index: 13984 entries, 0 to 13983\n",
        "Data columns (total 15 columns):\n",
        "Nombre         13984  non-null values\n",
        "Direcci\u00f3n      13915  non-null values\n",
        "C.Postal       13958  non-null values\n",
        "Provincia      13984  non-null values\n",
        "Municipio      13984  non-null values\n",
        "Localidad      13984  non-null values\n",
        "Nucleo         9786  non-null values\n",
        "Tel\u00e9fono 1     11849  non-null values\n",
        "Tel\u00e9fono 2     658  non-null values\n",
        "Tel\u00e9fono 3     21  non-null values\n",
        "Fax            45  non-null values\n",
        "Email          255  non-null values\n",
        "web            39  non-null values\n",
        "Q Calidad      0  non-null values\n",
        "Unnamed: 14    0  non-null values\n",
        "dtypes: float64(2), object(13)"
       ]
      }
     ],
     "prompt_number": 3
    },
    {
     "cell_type": "code",
     "collapsed": false,
     "input": [
      "bars.tail(1)"
     ],
     "language": "python",
     "metadata": {},
     "outputs": [
      {
       "html": [
        "<div style=\"max-height:1000px;max-width:1500px;overflow:auto;\">\n",
        "<table border=\"1\" class=\"dataframe\">\n",
        "  <thead>\n",
        "    <tr style=\"text-align: right;\">\n",
        "      <th></th>\n",
        "      <th>Nombre</th>\n",
        "      <th>Direcci\u00f3n</th>\n",
        "      <th>C.Postal</th>\n",
        "      <th>Provincia</th>\n",
        "      <th>Municipio</th>\n",
        "      <th>Localidad</th>\n",
        "      <th>Nucleo</th>\n",
        "      <th>Tel\u00e9fono 1</th>\n",
        "      <th>Tel\u00e9fono 2</th>\n",
        "      <th>Tel\u00e9fono 3</th>\n",
        "      <th>Fax</th>\n",
        "      <th>Email</th>\n",
        "      <th>web</th>\n",
        "      <th>Q Calidad</th>\n",
        "      <th>Unnamed: 14</th>\n",
        "    </tr>\n",
        "  </thead>\n",
        "  <tbody>\n",
        "    <tr>\n",
        "      <th>13983</th>\n",
        "      <td> ARCO DE TRIUNFO</td>\n",
        "      <td> VILLAR Y MACIAS, 7</td>\n",
        "      <td> 37003</td>\n",
        "      <td> Salamanca</td>\n",
        "      <td> Salamanca</td>\n",
        "      <td> SALAMANCA</td>\n",
        "      <td> SALAMANCA</td>\n",
        "      <td> 622860107</td>\n",
        "      <td> 622860107</td>\n",
        "      <td> NaN</td>\n",
        "      <td> NaN</td>\n",
        "      <td> NaN</td>\n",
        "      <td> NaN</td>\n",
        "      <td>NaN</td>\n",
        "      <td>NaN</td>\n",
        "    </tr>\n",
        "  </tbody>\n",
        "</table>\n",
        "</div>"
       ],
       "metadata": {},
       "output_type": "pyout",
       "prompt_number": 4,
       "text": [
        "                Nombre           Direcci\u00f3n C.Postal  Provincia  Municipio  \\\n",
        "13983  ARCO DE TRIUNFO  VILLAR Y MACIAS, 7    37003  Salamanca  Salamanca   \n",
        "\n",
        "       Localidad     Nucleo Tel\u00e9fono 1 Tel\u00e9fono 2 Tel\u00e9fono 3  Fax Email  web  \\\n",
        "13983  SALAMANCA  SALAMANCA  622860107  622860107        NaN  NaN   NaN  NaN   \n",
        "\n",
        "       Q Calidad  Unnamed: 14  \n",
        "13983        NaN          NaN  "
       ]
      }
     ],
     "prompt_number": 4
    },
    {
     "cell_type": "code",
     "collapsed": false,
     "input": [
      "bars.Localidad.apply(lambda x: x.find('LA ') != -1)"
     ],
     "language": "python",
     "metadata": {},
     "outputs": [
      {
       "metadata": {},
       "output_type": "pyout",
       "prompt_number": 5,
       "text": [
        "0     False\n",
        "1     False\n",
        "2     False\n",
        "3     False\n",
        "4     False\n",
        "5     False\n",
        "6     False\n",
        "7     False\n",
        "8     False\n",
        "9     False\n",
        "10    False\n",
        "11    False\n",
        "12    False\n",
        "13    False\n",
        "14    False\n",
        "...\n",
        "13969    False\n",
        "13970    False\n",
        "13971    False\n",
        "13972    False\n",
        "13973     True\n",
        "13974    False\n",
        "13975    False\n",
        "13976    False\n",
        "13977    False\n",
        "13978    False\n",
        "13979    False\n",
        "13980    False\n",
        "13981    False\n",
        "13982    False\n",
        "13983    False\n",
        "Name: Localidad, Length: 13984, dtype: bool"
       ]
      }
     ],
     "prompt_number": 5
    },
    {
     "cell_type": "code",
     "collapsed": false,
     "input": [
      "bars[bars.Localidad.apply(lambda x: x.find('LA ') != -1)]"
     ],
     "language": "python",
     "metadata": {},
     "outputs": [
      {
       "html": [
        "<pre>\n",
        "&lt;class 'pandas.core.frame.DataFrame'&gt;\n",
        "Int64Index: 805 entries, 46 to 13973\n",
        "Data columns (total 15 columns):\n",
        "Nombre         805  non-null values\n",
        "Direcci\u00f3n      795  non-null values\n",
        "C.Postal       803  non-null values\n",
        "Provincia      805  non-null values\n",
        "Municipio      805  non-null values\n",
        "Localidad      805  non-null values\n",
        "Nucleo         574  non-null values\n",
        "Tel\u00e9fono 1     685  non-null values\n",
        "Tel\u00e9fono 2     51  non-null values\n",
        "Tel\u00e9fono 3     0  non-null values\n",
        "Fax            3  non-null values\n",
        "Email          17  non-null values\n",
        "web            1  non-null values\n",
        "Q Calidad      0  non-null values\n",
        "Unnamed: 14    0  non-null values\n",
        "dtypes: float64(2), object(13)\n",
        "</pre>"
       ],
       "metadata": {},
       "output_type": "pyout",
       "prompt_number": 6,
       "text": [
        "<class 'pandas.core.frame.DataFrame'>\n",
        "Int64Index: 805 entries, 46 to 13973\n",
        "Data columns (total 15 columns):\n",
        "Nombre         805  non-null values\n",
        "Direcci\u00f3n      795  non-null values\n",
        "C.Postal       803  non-null values\n",
        "Provincia      805  non-null values\n",
        "Municipio      805  non-null values\n",
        "Localidad      805  non-null values\n",
        "Nucleo         574  non-null values\n",
        "Tel\u00e9fono 1     685  non-null values\n",
        "Tel\u00e9fono 2     51  non-null values\n",
        "Tel\u00e9fono 3     0  non-null values\n",
        "Fax            3  non-null values\n",
        "Email          17  non-null values\n",
        "web            1  non-null values\n",
        "Q Calidad      0  non-null values\n",
        "Unnamed: 14    0  non-null values\n",
        "dtypes: float64(2), object(13)"
       ]
      }
     ],
     "prompt_number": 6
    },
    {
     "cell_type": "code",
     "collapsed": false,
     "input": [
      "# Selecci\u00f3n de filas\n",
      "bars.iloc[0]\n",
      "bars.loc[0]\n",
      "bars.ix[0]\n",
      "bars.T[0]"
     ],
     "language": "python",
     "metadata": {},
     "outputs": [
      {
       "metadata": {},
       "output_type": "pyout",
       "prompt_number": 7,
       "text": [
        "Nombre              CASA PEDRO\n",
        "Direcci\u00f3n      NU\u00d1EZ DE ARCE 4\n",
        "C.Postal                 47002\n",
        "Provincia           Valladolid\n",
        "Municipio           Valladolid\n",
        "Localidad           VALLADOLID\n",
        "Nucleo              VALLADOLID\n",
        "Tel\u00e9fono 1           983000000\n",
        "Tel\u00e9fono 2                 NaN\n",
        "Tel\u00e9fono 3                 NaN\n",
        "Fax                        NaN\n",
        "Email                      NaN\n",
        "web                        NaN\n",
        "Q Calidad                  NaN\n",
        "Unnamed: 14                NaN\n",
        "Name: 0, dtype: object"
       ]
      }
     ],
     "prompt_number": 7
    },
    {
     "cell_type": "code",
     "collapsed": false,
     "input": [
      "bars[0]"
     ],
     "language": "python",
     "metadata": {},
     "outputs": [
      {
       "ename": "KeyError",
       "evalue": "u'no item named 0'",
       "output_type": "pyerr",
       "traceback": [
        "\u001b[0;31m---------------------------------------------------------------------------\u001b[0m\n\u001b[0;31mKeyError\u001b[0m                                  Traceback (most recent call last)",
        "\u001b[0;32m<ipython-input-8-4cadcae3962b>\u001b[0m in \u001b[0;36m<module>\u001b[0;34m()\u001b[0m\n\u001b[0;32m----> 1\u001b[0;31m \u001b[0mbars\u001b[0m\u001b[0;34m[\u001b[0m\u001b[0;36m0\u001b[0m\u001b[0;34m]\u001b[0m\u001b[0;34m\u001b[0m\u001b[0m\n\u001b[0m",
        "\u001b[0;32m//anaconda/lib/python2.7/site-packages/pandas/core/frame.pyc\u001b[0m in \u001b[0;36m__getitem__\u001b[0;34m(self, key)\u001b[0m\n\u001b[1;32m   2001\u001b[0m             \u001b[0;31m# get column\u001b[0m\u001b[0;34m\u001b[0m\u001b[0;34m\u001b[0m\u001b[0m\n\u001b[1;32m   2002\u001b[0m             \u001b[0;32mif\u001b[0m \u001b[0mself\u001b[0m\u001b[0;34m.\u001b[0m\u001b[0mcolumns\u001b[0m\u001b[0;34m.\u001b[0m\u001b[0mis_unique\u001b[0m\u001b[0;34m:\u001b[0m\u001b[0;34m\u001b[0m\u001b[0m\n\u001b[0;32m-> 2003\u001b[0;31m                 \u001b[0;32mreturn\u001b[0m \u001b[0mself\u001b[0m\u001b[0;34m.\u001b[0m\u001b[0m_get_item_cache\u001b[0m\u001b[0;34m(\u001b[0m\u001b[0mkey\u001b[0m\u001b[0;34m)\u001b[0m\u001b[0;34m\u001b[0m\u001b[0m\n\u001b[0m\u001b[1;32m   2004\u001b[0m \u001b[0;34m\u001b[0m\u001b[0m\n\u001b[1;32m   2005\u001b[0m             \u001b[0;31m# duplicate columns\u001b[0m\u001b[0;34m\u001b[0m\u001b[0;34m\u001b[0m\u001b[0m\n",
        "\u001b[0;32m//anaconda/lib/python2.7/site-packages/pandas/core/generic.pyc\u001b[0m in \u001b[0;36m_get_item_cache\u001b[0;34m(self, item)\u001b[0m\n\u001b[1;32m    665\u001b[0m             \u001b[0;32mreturn\u001b[0m \u001b[0mcache\u001b[0m\u001b[0;34m[\u001b[0m\u001b[0mitem\u001b[0m\u001b[0;34m]\u001b[0m\u001b[0;34m\u001b[0m\u001b[0m\n\u001b[1;32m    666\u001b[0m         \u001b[0;32mexcept\u001b[0m \u001b[0mException\u001b[0m\u001b[0;34m:\u001b[0m\u001b[0;34m\u001b[0m\u001b[0m\n\u001b[0;32m--> 667\u001b[0;31m             \u001b[0mvalues\u001b[0m \u001b[0;34m=\u001b[0m \u001b[0mself\u001b[0m\u001b[0;34m.\u001b[0m\u001b[0m_data\u001b[0m\u001b[0;34m.\u001b[0m\u001b[0mget\u001b[0m\u001b[0;34m(\u001b[0m\u001b[0mitem\u001b[0m\u001b[0;34m)\u001b[0m\u001b[0;34m\u001b[0m\u001b[0m\n\u001b[0m\u001b[1;32m    668\u001b[0m             \u001b[0mres\u001b[0m \u001b[0;34m=\u001b[0m \u001b[0mself\u001b[0m\u001b[0;34m.\u001b[0m\u001b[0m_box_item_values\u001b[0m\u001b[0;34m(\u001b[0m\u001b[0mitem\u001b[0m\u001b[0;34m,\u001b[0m \u001b[0mvalues\u001b[0m\u001b[0;34m)\u001b[0m\u001b[0;34m\u001b[0m\u001b[0m\n\u001b[1;32m    669\u001b[0m             \u001b[0mcache\u001b[0m\u001b[0;34m[\u001b[0m\u001b[0mitem\u001b[0m\u001b[0;34m]\u001b[0m \u001b[0;34m=\u001b[0m \u001b[0mres\u001b[0m\u001b[0;34m\u001b[0m\u001b[0m\n",
        "\u001b[0;32m//anaconda/lib/python2.7/site-packages/pandas/core/internals.pyc\u001b[0m in \u001b[0;36mget\u001b[0;34m(self, item)\u001b[0m\n\u001b[1;32m   1653\u001b[0m     \u001b[0;32mdef\u001b[0m \u001b[0mget\u001b[0m\u001b[0;34m(\u001b[0m\u001b[0mself\u001b[0m\u001b[0;34m,\u001b[0m \u001b[0mitem\u001b[0m\u001b[0;34m)\u001b[0m\u001b[0;34m:\u001b[0m\u001b[0;34m\u001b[0m\u001b[0m\n\u001b[1;32m   1654\u001b[0m         \u001b[0;32mif\u001b[0m \u001b[0mself\u001b[0m\u001b[0;34m.\u001b[0m\u001b[0mitems\u001b[0m\u001b[0;34m.\u001b[0m\u001b[0mis_unique\u001b[0m\u001b[0;34m:\u001b[0m\u001b[0;34m\u001b[0m\u001b[0m\n\u001b[0;32m-> 1655\u001b[0;31m             \u001b[0m_\u001b[0m\u001b[0;34m,\u001b[0m \u001b[0mblock\u001b[0m \u001b[0;34m=\u001b[0m \u001b[0mself\u001b[0m\u001b[0;34m.\u001b[0m\u001b[0m_find_block\u001b[0m\u001b[0;34m(\u001b[0m\u001b[0mitem\u001b[0m\u001b[0;34m)\u001b[0m\u001b[0;34m\u001b[0m\u001b[0m\n\u001b[0m\u001b[1;32m   1656\u001b[0m             \u001b[0;32mreturn\u001b[0m \u001b[0mblock\u001b[0m\u001b[0;34m.\u001b[0m\u001b[0mget\u001b[0m\u001b[0;34m(\u001b[0m\u001b[0mitem\u001b[0m\u001b[0;34m)\u001b[0m\u001b[0;34m\u001b[0m\u001b[0m\n\u001b[1;32m   1657\u001b[0m         \u001b[0;32melse\u001b[0m\u001b[0;34m:\u001b[0m\u001b[0;34m\u001b[0m\u001b[0m\n",
        "\u001b[0;32m//anaconda/lib/python2.7/site-packages/pandas/core/internals.pyc\u001b[0m in \u001b[0;36m_find_block\u001b[0;34m(self, item)\u001b[0m\n\u001b[1;32m   1933\u001b[0m \u001b[0;34m\u001b[0m\u001b[0m\n\u001b[1;32m   1934\u001b[0m     \u001b[0;32mdef\u001b[0m \u001b[0m_find_block\u001b[0m\u001b[0;34m(\u001b[0m\u001b[0mself\u001b[0m\u001b[0;34m,\u001b[0m \u001b[0mitem\u001b[0m\u001b[0;34m)\u001b[0m\u001b[0;34m:\u001b[0m\u001b[0;34m\u001b[0m\u001b[0m\n\u001b[0;32m-> 1935\u001b[0;31m         \u001b[0mself\u001b[0m\u001b[0;34m.\u001b[0m\u001b[0m_check_have\u001b[0m\u001b[0;34m(\u001b[0m\u001b[0mitem\u001b[0m\u001b[0;34m)\u001b[0m\u001b[0;34m\u001b[0m\u001b[0m\n\u001b[0m\u001b[1;32m   1936\u001b[0m         \u001b[0;32mfor\u001b[0m \u001b[0mi\u001b[0m\u001b[0;34m,\u001b[0m \u001b[0mblock\u001b[0m \u001b[0;32min\u001b[0m \u001b[0menumerate\u001b[0m\u001b[0;34m(\u001b[0m\u001b[0mself\u001b[0m\u001b[0;34m.\u001b[0m\u001b[0mblocks\u001b[0m\u001b[0;34m)\u001b[0m\u001b[0;34m:\u001b[0m\u001b[0;34m\u001b[0m\u001b[0m\n\u001b[1;32m   1937\u001b[0m             \u001b[0;32mif\u001b[0m \u001b[0mitem\u001b[0m \u001b[0;32min\u001b[0m \u001b[0mblock\u001b[0m\u001b[0;34m:\u001b[0m\u001b[0;34m\u001b[0m\u001b[0m\n",
        "\u001b[0;32m//anaconda/lib/python2.7/site-packages/pandas/core/internals.pyc\u001b[0m in \u001b[0;36m_check_have\u001b[0;34m(self, item)\u001b[0m\n\u001b[1;32m   1940\u001b[0m     \u001b[0;32mdef\u001b[0m \u001b[0m_check_have\u001b[0m\u001b[0;34m(\u001b[0m\u001b[0mself\u001b[0m\u001b[0;34m,\u001b[0m \u001b[0mitem\u001b[0m\u001b[0;34m)\u001b[0m\u001b[0;34m:\u001b[0m\u001b[0;34m\u001b[0m\u001b[0m\n\u001b[1;32m   1941\u001b[0m         \u001b[0;32mif\u001b[0m \u001b[0mitem\u001b[0m \u001b[0;32mnot\u001b[0m \u001b[0;32min\u001b[0m \u001b[0mself\u001b[0m\u001b[0;34m.\u001b[0m\u001b[0mitems\u001b[0m\u001b[0;34m:\u001b[0m\u001b[0;34m\u001b[0m\u001b[0m\n\u001b[0;32m-> 1942\u001b[0;31m             \u001b[0;32mraise\u001b[0m \u001b[0mKeyError\u001b[0m\u001b[0;34m(\u001b[0m\u001b[0;34m'no item named %s'\u001b[0m \u001b[0;34m%\u001b[0m \u001b[0mcom\u001b[0m\u001b[0;34m.\u001b[0m\u001b[0mpprint_thing\u001b[0m\u001b[0;34m(\u001b[0m\u001b[0mitem\u001b[0m\u001b[0;34m)\u001b[0m\u001b[0;34m)\u001b[0m\u001b[0;34m\u001b[0m\u001b[0m\n\u001b[0m\u001b[1;32m   1943\u001b[0m \u001b[0;34m\u001b[0m\u001b[0m\n\u001b[1;32m   1944\u001b[0m     \u001b[0;32mdef\u001b[0m \u001b[0mreindex_axis\u001b[0m\u001b[0;34m(\u001b[0m\u001b[0mself\u001b[0m\u001b[0;34m,\u001b[0m \u001b[0mnew_axis\u001b[0m\u001b[0;34m,\u001b[0m \u001b[0mmethod\u001b[0m\u001b[0;34m=\u001b[0m\u001b[0mNone\u001b[0m\u001b[0;34m,\u001b[0m \u001b[0maxis\u001b[0m\u001b[0;34m=\u001b[0m\u001b[0;36m0\u001b[0m\u001b[0;34m,\u001b[0m \u001b[0mcopy\u001b[0m\u001b[0;34m=\u001b[0m\u001b[0mTrue\u001b[0m\u001b[0;34m)\u001b[0m\u001b[0;34m:\u001b[0m\u001b[0;34m\u001b[0m\u001b[0m\n",
        "\u001b[0;31mKeyError\u001b[0m: u'no item named 0'"
       ]
      }
     ],
     "prompt_number": 8
    },
    {
     "cell_type": "code",
     "collapsed": false,
     "input": [
      "bars.tail(1)"
     ],
     "language": "python",
     "metadata": {},
     "outputs": []
    },
    {
     "cell_type": "code",
     "collapsed": false,
     "input": [
      "web_only = bars.dropna(subset=['web'])\n",
      "len(web_only)\n",
      "web_only[web_only.Localidad == 'BURGOS']"
     ],
     "language": "python",
     "metadata": {},
     "outputs": []
    },
    {
     "cell_type": "code",
     "collapsed": false,
     "input": [
      "bars[\"C.Postal\"]"
     ],
     "language": "python",
     "metadata": {},
     "outputs": []
    },
    {
     "cell_type": "code",
     "collapsed": false,
     "input": [
      "bars.Provincia"
     ],
     "language": "python",
     "metadata": {},
     "outputs": []
    },
    {
     "cell_type": "code",
     "collapsed": false,
     "input": [
      "by_provincia_gb = bars.groupby('Provincia')\n",
      "by_provincia_gb"
     ],
     "language": "python",
     "metadata": {},
     "outputs": [
      {
       "metadata": {},
       "output_type": "pyout",
       "prompt_number": 9,
       "text": [
        "<pandas.core.groupby.DataFrameGroupBy object at 0x108cf5f50>"
       ]
      }
     ],
     "prompt_number": 9
    },
    {
     "cell_type": "code",
     "collapsed": false,
     "input": [
      "by_provincia_gb.web.get_group(u'Le\u00f3n').dropna()"
     ],
     "language": "python",
     "metadata": {},
     "outputs": [
      {
       "metadata": {},
       "output_type": "pyout",
       "prompt_number": 10,
       "text": [
        "11406    seaki.com\n",
        "Name: web, dtype: object"
       ]
      }
     ],
     "prompt_number": 10
    },
    {
     "cell_type": "code",
     "collapsed": false,
     "input": [
      "by_provincia = pd.DataFrame({'Bares': by_provincia_gb.size()})\n",
      "by_provincia"
     ],
     "language": "python",
     "metadata": {},
     "outputs": [
      {
       "html": [
        "<div style=\"max-height:1000px;max-width:1500px;overflow:auto;\">\n",
        "<table border=\"1\" class=\"dataframe\">\n",
        "  <thead>\n",
        "    <tr style=\"text-align: right;\">\n",
        "      <th></th>\n",
        "      <th>Bares</th>\n",
        "    </tr>\n",
        "    <tr>\n",
        "      <th>Provincia</th>\n",
        "      <th></th>\n",
        "    </tr>\n",
        "  </thead>\n",
        "  <tbody>\n",
        "    <tr>\n",
        "      <th>Burgos</th>\n",
        "      <td> 1796</td>\n",
        "    </tr>\n",
        "    <tr>\n",
        "      <th>Le\u00f3n</th>\n",
        "      <td> 2224</td>\n",
        "    </tr>\n",
        "    <tr>\n",
        "      <th>Palencia</th>\n",
        "      <td> 1057</td>\n",
        "    </tr>\n",
        "    <tr>\n",
        "      <th>Salamanca</th>\n",
        "      <td> 1341</td>\n",
        "    </tr>\n",
        "    <tr>\n",
        "      <th>Segovia</th>\n",
        "      <td>  804</td>\n",
        "    </tr>\n",
        "    <tr>\n",
        "      <th>Soria</th>\n",
        "      <td>  353</td>\n",
        "    </tr>\n",
        "    <tr>\n",
        "      <th>Valladolid</th>\n",
        "      <td> 3724</td>\n",
        "    </tr>\n",
        "    <tr>\n",
        "      <th>Zamora</th>\n",
        "      <td> 1282</td>\n",
        "    </tr>\n",
        "    <tr>\n",
        "      <th>\u00c1vila</th>\n",
        "      <td> 1403</td>\n",
        "    </tr>\n",
        "  </tbody>\n",
        "</table>\n",
        "</div>"
       ],
       "metadata": {},
       "output_type": "pyout",
       "prompt_number": 11,
       "text": [
        "            Bares\n",
        "Provincia        \n",
        "Burgos       1796\n",
        "Le\u00f3n         2224\n",
        "Palencia     1057\n",
        "Salamanca    1341\n",
        "Segovia       804\n",
        "Soria         353\n",
        "Valladolid   3724\n",
        "Zamora       1282\n",
        "\u00c1vila        1403"
       ]
      }
     ],
     "prompt_number": 11
    },
    {
     "cell_type": "code",
     "collapsed": false,
     "input": [
      "by_provincia.index"
     ],
     "language": "python",
     "metadata": {},
     "outputs": [
      {
       "metadata": {},
       "output_type": "pyout",
       "prompt_number": 12,
       "text": [
        "Index([u'Burgos', u'Le\u00f3n', u'Palencia', u'Salamanca', u'Segovia', u'Soria', u'Valladolid', u'Zamora', u'\u00c1vila'], dtype=object)"
       ]
      }
     ],
     "prompt_number": 12
    },
    {
     "cell_type": "code",
     "collapsed": false,
     "input": [
      "by_provincia.sort('Bares', ascending=False)"
     ],
     "language": "python",
     "metadata": {},
     "outputs": [
      {
       "html": [
        "<div style=\"max-height:1000px;max-width:1500px;overflow:auto;\">\n",
        "<table border=\"1\" class=\"dataframe\">\n",
        "  <thead>\n",
        "    <tr style=\"text-align: right;\">\n",
        "      <th></th>\n",
        "      <th>Bares</th>\n",
        "    </tr>\n",
        "    <tr>\n",
        "      <th>Provincia</th>\n",
        "      <th></th>\n",
        "    </tr>\n",
        "  </thead>\n",
        "  <tbody>\n",
        "    <tr>\n",
        "      <th>Valladolid</th>\n",
        "      <td> 3724</td>\n",
        "    </tr>\n",
        "    <tr>\n",
        "      <th>Le\u00f3n</th>\n",
        "      <td> 2224</td>\n",
        "    </tr>\n",
        "    <tr>\n",
        "      <th>Burgos</th>\n",
        "      <td> 1796</td>\n",
        "    </tr>\n",
        "    <tr>\n",
        "      <th>\u00c1vila</th>\n",
        "      <td> 1403</td>\n",
        "    </tr>\n",
        "    <tr>\n",
        "      <th>Salamanca</th>\n",
        "      <td> 1341</td>\n",
        "    </tr>\n",
        "    <tr>\n",
        "      <th>Zamora</th>\n",
        "      <td> 1282</td>\n",
        "    </tr>\n",
        "    <tr>\n",
        "      <th>Palencia</th>\n",
        "      <td> 1057</td>\n",
        "    </tr>\n",
        "    <tr>\n",
        "      <th>Segovia</th>\n",
        "      <td>  804</td>\n",
        "    </tr>\n",
        "    <tr>\n",
        "      <th>Soria</th>\n",
        "      <td>  353</td>\n",
        "    </tr>\n",
        "  </tbody>\n",
        "</table>\n",
        "</div>"
       ],
       "metadata": {},
       "output_type": "pyout",
       "prompt_number": 13,
       "text": [
        "            Bares\n",
        "Provincia        \n",
        "Valladolid   3724\n",
        "Le\u00f3n         2224\n",
        "Burgos       1796\n",
        "\u00c1vila        1403\n",
        "Salamanca    1341\n",
        "Zamora       1282\n",
        "Palencia     1057\n",
        "Segovia       804\n",
        "Soria         353"
       ]
      }
     ],
     "prompt_number": 13
    },
    {
     "cell_type": "code",
     "collapsed": false,
     "input": [
      "by_provincia.plot(rot=20)"
     ],
     "language": "python",
     "metadata": {},
     "outputs": [
      {
       "metadata": {},
       "output_type": "pyout",
       "prompt_number": 14,
       "text": [
        "<matplotlib.axes.AxesSubplot at 0x108d913d0>"
       ]
      },
      {
       "metadata": {},
       "output_type": "display_data",
       "png": "[encoded data removed]",
       "text": [
        "<matplotlib.figure.Figure at 0x108cf5c90>"
       ]
      }
     ],
     "prompt_number": 14
    },
    {
     "cell_type": "code",
     "collapsed": false,
     "input": [
      "population = pd.read_excel('poblacion_por_provincias.xls', 'poblacion')\n",
      "population['Provincia'] = population.Provincia.apply(to_ascii)\n",
      "population.columns = 'Provincia', 'Poblaci\u00f3n'\n",
      "population = population.set_index('Provincia')\n",
      "population"
     ],
     "language": "python",
     "metadata": {},
     "outputs": [
      {
       "html": [
        "<div style=\"max-height:1000px;max-width:1500px;overflow:auto;\">\n",
        "<table border=\"1\" class=\"dataframe\">\n",
        "  <thead>\n",
        "    <tr style=\"text-align: right;\">\n",
        "      <th></th>\n",
        "      <th>Poblaci\u00f3n</th>\n",
        "    </tr>\n",
        "    <tr>\n",
        "      <th>Provincia</th>\n",
        "      <th></th>\n",
        "    </tr>\n",
        "  </thead>\n",
        "  <tbody>\n",
        "    <tr>\n",
        "      <th>AVILA</th>\n",
        "      <td> 169505</td>\n",
        "    </tr>\n",
        "    <tr>\n",
        "      <th>BURGOS</th>\n",
        "      <td> 367906</td>\n",
        "    </tr>\n",
        "    <tr>\n",
        "      <th>LEON</th>\n",
        "      <td> 488991</td>\n",
        "    </tr>\n",
        "    <tr>\n",
        "      <th>PALENCIA</th>\n",
        "      <td> 168721</td>\n",
        "    </tr>\n",
        "    <tr>\n",
        "      <th>SALAMANCA</th>\n",
        "      <td> 347377</td>\n",
        "    </tr>\n",
        "    <tr>\n",
        "      <th>SEGOVIA</th>\n",
        "      <td> 161640</td>\n",
        "    </tr>\n",
        "    <tr>\n",
        "      <th>SORIA</th>\n",
        "      <td>  93389</td>\n",
        "    </tr>\n",
        "    <tr>\n",
        "      <th>VALLADOLID</th>\n",
        "      <td> 530590</td>\n",
        "    </tr>\n",
        "    <tr>\n",
        "      <th>ZAMORA</th>\n",
        "      <td> 189037</td>\n",
        "    </tr>\n",
        "  </tbody>\n",
        "</table>\n",
        "</div>"
       ],
       "metadata": {},
       "output_type": "pyout",
       "prompt_number": 15,
       "text": [
        "            Poblaci\u00f3n\n",
        "Provincia            \n",
        "AVILA          169505\n",
        "BURGOS         367906\n",
        "LEON           488991\n",
        "PALENCIA       168721\n",
        "SALAMANCA      347377\n",
        "SEGOVIA        161640\n",
        "SORIA           93389\n",
        "VALLADOLID     530590\n",
        "ZAMORA         189037"
       ]
      }
     ],
     "prompt_number": 15
    },
    {
     "cell_type": "code",
     "collapsed": false,
     "input": [
      "joined = population.join(by_provincia)\n",
      "joined"
     ],
     "language": "python",
     "metadata": {},
     "outputs": [
      {
       "html": [
        "<div style=\"max-height:1000px;max-width:1500px;overflow:auto;\">\n",
        "<table border=\"1\" class=\"dataframe\">\n",
        "  <thead>\n",
        "    <tr style=\"text-align: right;\">\n",
        "      <th></th>\n",
        "      <th>Poblaci\u00f3n</th>\n",
        "      <th>Bares</th>\n",
        "    </tr>\n",
        "    <tr>\n",
        "      <th>Provincia</th>\n",
        "      <th></th>\n",
        "      <th></th>\n",
        "    </tr>\n",
        "  </thead>\n",
        "  <tbody>\n",
        "    <tr>\n",
        "      <th>AVILA</th>\n",
        "      <td> 169505</td>\n",
        "      <td>NaN</td>\n",
        "    </tr>\n",
        "    <tr>\n",
        "      <th>BURGOS</th>\n",
        "      <td> 367906</td>\n",
        "      <td>NaN</td>\n",
        "    </tr>\n",
        "    <tr>\n",
        "      <th>LEON</th>\n",
        "      <td> 488991</td>\n",
        "      <td>NaN</td>\n",
        "    </tr>\n",
        "    <tr>\n",
        "      <th>PALENCIA</th>\n",
        "      <td> 168721</td>\n",
        "      <td>NaN</td>\n",
        "    </tr>\n",
        "    <tr>\n",
        "      <th>SALAMANCA</th>\n",
        "      <td> 347377</td>\n",
        "      <td>NaN</td>\n",
        "    </tr>\n",
        "    <tr>\n",
        "      <th>SEGOVIA</th>\n",
        "      <td> 161640</td>\n",
        "      <td>NaN</td>\n",
        "    </tr>\n",
        "    <tr>\n",
        "      <th>SORIA</th>\n",
        "      <td>  93389</td>\n",
        "      <td>NaN</td>\n",
        "    </tr>\n",
        "    <tr>\n",
        "      <th>VALLADOLID</th>\n",
        "      <td> 530590</td>\n",
        "      <td>NaN</td>\n",
        "    </tr>\n",
        "    <tr>\n",
        "      <th>ZAMORA</th>\n",
        "      <td> 189037</td>\n",
        "      <td>NaN</td>\n",
        "    </tr>\n",
        "  </tbody>\n",
        "</table>\n",
        "</div>"
       ],
       "metadata": {},
       "output_type": "pyout",
       "prompt_number": 16,
       "text": [
        "            Poblaci\u00f3n  Bares\n",
        "Provincia                   \n",
        "AVILA          169505    NaN\n",
        "BURGOS         367906    NaN\n",
        "LEON           488991    NaN\n",
        "PALENCIA       168721    NaN\n",
        "SALAMANCA      347377    NaN\n",
        "SEGOVIA        161640    NaN\n",
        "SORIA           93389    NaN\n",
        "VALLADOLID     530590    NaN\n",
        "ZAMORA         189037    NaN"
       ]
      }
     ],
     "prompt_number": 16
    },
    {
     "cell_type": "code",
     "collapsed": false,
     "input": [
      "by_provincia = by_provincia.set_index(by_provincia.index.map(lambda prov: to_ascii(prov)))"
     ],
     "language": "python",
     "metadata": {},
     "outputs": [],
     "prompt_number": 17
    },
    {
     "cell_type": "code",
     "collapsed": false,
     "input": [
      "joined = population.join(by_provincia)\n",
      "joined"
     ],
     "language": "python",
     "metadata": {},
     "outputs": [
      {
       "html": [
        "<div style=\"max-height:1000px;max-width:1500px;overflow:auto;\">\n",
        "<table border=\"1\" class=\"dataframe\">\n",
        "  <thead>\n",
        "    <tr style=\"text-align: right;\">\n",
        "      <th></th>\n",
        "      <th>Poblaci\u00f3n</th>\n",
        "      <th>Bares</th>\n",
        "    </tr>\n",
        "    <tr>\n",
        "      <th>Provincia</th>\n",
        "      <th></th>\n",
        "      <th></th>\n",
        "    </tr>\n",
        "  </thead>\n",
        "  <tbody>\n",
        "    <tr>\n",
        "      <th>AVILA</th>\n",
        "      <td> 169505</td>\n",
        "      <td> 1403</td>\n",
        "    </tr>\n",
        "    <tr>\n",
        "      <th>BURGOS</th>\n",
        "      <td> 367906</td>\n",
        "      <td> 1796</td>\n",
        "    </tr>\n",
        "    <tr>\n",
        "      <th>LEON</th>\n",
        "      <td> 488991</td>\n",
        "      <td> 2224</td>\n",
        "    </tr>\n",
        "    <tr>\n",
        "      <th>PALENCIA</th>\n",
        "      <td> 168721</td>\n",
        "      <td> 1057</td>\n",
        "    </tr>\n",
        "    <tr>\n",
        "      <th>SALAMANCA</th>\n",
        "      <td> 347377</td>\n",
        "      <td> 1341</td>\n",
        "    </tr>\n",
        "    <tr>\n",
        "      <th>SEGOVIA</th>\n",
        "      <td> 161640</td>\n",
        "      <td>  804</td>\n",
        "    </tr>\n",
        "    <tr>\n",
        "      <th>SORIA</th>\n",
        "      <td>  93389</td>\n",
        "      <td>  353</td>\n",
        "    </tr>\n",
        "    <tr>\n",
        "      <th>VALLADOLID</th>\n",
        "      <td> 530590</td>\n",
        "      <td> 3724</td>\n",
        "    </tr>\n",
        "    <tr>\n",
        "      <th>ZAMORA</th>\n",
        "      <td> 189037</td>\n",
        "      <td> 1282</td>\n",
        "    </tr>\n",
        "  </tbody>\n",
        "</table>\n",
        "</div>"
       ],
       "metadata": {},
       "output_type": "pyout",
       "prompt_number": 18,
       "text": [
        "            Poblaci\u00f3n  Bares\n",
        "Provincia                   \n",
        "AVILA          169505   1403\n",
        "BURGOS         367906   1796\n",
        "LEON           488991   2224\n",
        "PALENCIA       168721   1057\n",
        "SALAMANCA      347377   1341\n",
        "SEGOVIA        161640    804\n",
        "SORIA           93389    353\n",
        "VALLADOLID     530590   3724\n",
        "ZAMORA         189037   1282"
       ]
      }
     ],
     "prompt_number": 18
    },
    {
     "cell_type": "code",
     "collapsed": false,
     "input": [
      "joined['Poblaci\u00f3n'].sum()"
     ],
     "language": "python",
     "metadata": {},
     "outputs": [
      {
       "metadata": {},
       "output_type": "pyout",
       "prompt_number": 19,
       "text": [
        "2517156.0"
       ]
      }
     ],
     "prompt_number": 19
    },
    {
     "cell_type": "code",
     "collapsed": false,
     "input": [
      "joined.Bares.std()"
     ],
     "language": "python",
     "metadata": {},
     "outputs": [
      {
       "metadata": {},
       "output_type": "pyout",
       "prompt_number": 20,
       "text": [
        "975.3478581739156"
       ]
      }
     ],
     "prompt_number": 20
    },
    {
     "cell_type": "code",
     "collapsed": false,
     "input": [
      "joined[['Poblaci\u00f3n', 'Bares']].corr()"
     ],
     "language": "python",
     "metadata": {},
     "outputs": [
      {
       "html": [
        "<div style=\"max-height:1000px;max-width:1500px;overflow:auto;\">\n",
        "<table border=\"1\" class=\"dataframe\">\n",
        "  <thead>\n",
        "    <tr style=\"text-align: right;\">\n",
        "      <th></th>\n",
        "      <th>Poblaci\u00f3n</th>\n",
        "      <th>Bares</th>\n",
        "    </tr>\n",
        "  </thead>\n",
        "  <tbody>\n",
        "    <tr>\n",
        "      <th>Poblaci\u00f3n</th>\n",
        "      <td> 1.000000</td>\n",
        "      <td> 0.890913</td>\n",
        "    </tr>\n",
        "    <tr>\n",
        "      <th>Bares</th>\n",
        "      <td> 0.890913</td>\n",
        "      <td> 1.000000</td>\n",
        "    </tr>\n",
        "  </tbody>\n",
        "</table>\n",
        "</div>"
       ],
       "metadata": {},
       "output_type": "pyout",
       "prompt_number": 21,
       "text": [
        "           Poblaci\u00f3n     Bares\n",
        "Poblaci\u00f3n   1.000000  0.890913\n",
        "Bares       0.890913  1.000000"
       ]
      }
     ],
     "prompt_number": 21
    },
    {
     "cell_type": "code",
     "collapsed": false,
     "input": [
      "joined['Habitantes por bar'] = joined['Poblaci\u00f3n'].astype(float) / joined.Bares\n",
      "joined['Habitantes por bar'] = joined['Habitantes por bar'].apply(round)\n",
      "joined['% Bares'] = joined.Bares.apply(lambda number: round(100 * number / joined.Bares.sum().astype(float), 1))\n",
      "joined['% Poblaci\u00f3n'] = joined['Poblaci\u00f3n'].apply(lambda people: round(100 * people / joined['Poblaci\u00f3n'].sum().astype(float), 1))\n",
      "joined"
     ],
     "language": "python",
     "metadata": {},
     "outputs": [
      {
       "html": [
        "<div style=\"max-height:1000px;max-width:1500px;overflow:auto;\">\n",
        "<table border=\"1\" class=\"dataframe\">\n",
        "  <thead>\n",
        "    <tr style=\"text-align: right;\">\n",
        "      <th></th>\n",
        "      <th>Poblaci\u00f3n</th>\n",
        "      <th>Bares</th>\n",
        "      <th>Habitantes por bar</th>\n",
        "      <th>% Bares</th>\n",
        "      <th>% Poblaci\u00f3n</th>\n",
        "    </tr>\n",
        "    <tr>\n",
        "      <th>Provincia</th>\n",
        "      <th></th>\n",
        "      <th></th>\n",
        "      <th></th>\n",
        "      <th></th>\n",
        "      <th></th>\n",
        "    </tr>\n",
        "  </thead>\n",
        "  <tbody>\n",
        "    <tr>\n",
        "      <th>AVILA</th>\n",
        "      <td> 169505</td>\n",
        "      <td> 1403</td>\n",
        "      <td> 121</td>\n",
        "      <td> 10.0</td>\n",
        "      <td>  6.7</td>\n",
        "    </tr>\n",
        "    <tr>\n",
        "      <th>BURGOS</th>\n",
        "      <td> 367906</td>\n",
        "      <td> 1796</td>\n",
        "      <td> 205</td>\n",
        "      <td> 12.8</td>\n",
        "      <td> 14.6</td>\n",
        "    </tr>\n",
        "    <tr>\n",
        "      <th>LEON</th>\n",
        "      <td> 488991</td>\n",
        "      <td> 2224</td>\n",
        "      <td> 220</td>\n",
        "      <td> 15.9</td>\n",
        "      <td> 19.4</td>\n",
        "    </tr>\n",
        "    <tr>\n",
        "      <th>PALENCIA</th>\n",
        "      <td> 168721</td>\n",
        "      <td> 1057</td>\n",
        "      <td> 160</td>\n",
        "      <td>  7.6</td>\n",
        "      <td>  6.7</td>\n",
        "    </tr>\n",
        "    <tr>\n",
        "      <th>SALAMANCA</th>\n",
        "      <td> 347377</td>\n",
        "      <td> 1341</td>\n",
        "      <td> 259</td>\n",
        "      <td>  9.6</td>\n",
        "      <td> 13.8</td>\n",
        "    </tr>\n",
        "    <tr>\n",
        "      <th>SEGOVIA</th>\n",
        "      <td> 161640</td>\n",
        "      <td>  804</td>\n",
        "      <td> 201</td>\n",
        "      <td>  5.7</td>\n",
        "      <td>  6.4</td>\n",
        "    </tr>\n",
        "    <tr>\n",
        "      <th>SORIA</th>\n",
        "      <td>  93389</td>\n",
        "      <td>  353</td>\n",
        "      <td> 265</td>\n",
        "      <td>  2.5</td>\n",
        "      <td>  3.7</td>\n",
        "    </tr>\n",
        "    <tr>\n",
        "      <th>VALLADOLID</th>\n",
        "      <td> 530590</td>\n",
        "      <td> 3724</td>\n",
        "      <td> 142</td>\n",
        "      <td> 26.6</td>\n",
        "      <td> 21.1</td>\n",
        "    </tr>\n",
        "    <tr>\n",
        "      <th>ZAMORA</th>\n",
        "      <td> 189037</td>\n",
        "      <td> 1282</td>\n",
        "      <td> 147</td>\n",
        "      <td>  9.2</td>\n",
        "      <td>  7.5</td>\n",
        "    </tr>\n",
        "  </tbody>\n",
        "</table>\n",
        "</div>"
       ],
       "metadata": {},
       "output_type": "pyout",
       "prompt_number": 22,
       "text": [
        "            Poblaci\u00f3n  Bares  Habitantes por bar  % Bares  % Poblaci\u00f3n\n",
        "Provincia                                                             \n",
        "AVILA          169505   1403                 121     10.0          6.7\n",
        "BURGOS         367906   1796                 205     12.8         14.6\n",
        "LEON           488991   2224                 220     15.9         19.4\n",
        "PALENCIA       168721   1057                 160      7.6          6.7\n",
        "SALAMANCA      347377   1341                 259      9.6         13.8\n",
        "SEGOVIA        161640    804                 201      5.7          6.4\n",
        "SORIA           93389    353                 265      2.5          3.7\n",
        "VALLADOLID     530590   3724                 142     26.6         21.1\n",
        "ZAMORA         189037   1282                 147      9.2          7.5"
       ]
      }
     ],
     "prompt_number": 22
    },
    {
     "cell_type": "code",
     "collapsed": false,
     "input": [
      "joined[['% Poblaci\u00f3n', '% Bares']].plot()"
     ],
     "language": "python",
     "metadata": {},
     "outputs": [
      {
       "metadata": {},
       "output_type": "pyout",
       "prompt_number": 23,
       "text": [
        "<matplotlib.axes.AxesSubplot at 0x108d43650>"
       ]
      },
      {
       "metadata": {},
       "output_type": "display_data",
       "png": "[encoded data removed]",
       "text": [
        "<matplotlib.figure.Figure at 0x108cfea50>"
       ]
      }
     ],
     "prompt_number": 23
    },
    {
     "cell_type": "code",
     "collapsed": false,
     "input": [
      "pob_bar = joined[['Poblaci\u00f3n', 'Bares']]\n",
      "\n",
      "pob_bar.Bares.plot()\n",
      "pob_bar['Poblaci\u00f3n'].plot(secondary_y=True, style='g')\n"
     ],
     "language": "python",
     "metadata": {},
     "outputs": [
      {
       "metadata": {},
       "output_type": "pyout",
       "prompt_number": 24,
       "text": [
        "<matplotlib.axes.AxesSubplot at 0x108df1690>"
       ]
      },
      {
       "metadata": {},
       "output_type": "display_data",
       "png": "[encoded data removed]",
       "text": [
        "<matplotlib.figure.Figure at 0x108dc8710>"
       ]
      }
     ],
     "prompt_number": 24
    },
    {
     "cell_type": "code",
     "collapsed": false,
     "input": [
      "pd.tools.plotting.scatter_plot(joined, 'Poblaci\u00f3n', 'Bares')\n",
      "\n"
     ],
     "language": "python",
     "metadata": {},
     "outputs": [
      {
       "metadata": {},
       "output_type": "pyout",
       "png": "[encoded data removed]",
       "prompt_number": 25,
       "text": [
        "<matplotlib.figure.Figure at 0x108dd6ad0>"
       ]
      },
      {
       "metadata": {},
       "output_type": "display_data",
       "png": "[encoded data removed]",
       "text": [
        "<matplotlib.figure.Figure at 0x108dd6ad0>"
       ]
      }
     ],
     "prompt_number": 25
    },
    {
     "cell_type": "code",
     "collapsed": false,
     "input": [
      "pd.tools.plotting.scatter_plot(joined, 'Poblaci\u00f3n', 'Bares')\n",
      "\n",
      "for label, x, y in zip(joined.index, joined['Poblaci\u00f3n'], joined['Bares']):\n",
      "    plt.annotate(\n",
      "        label, \n",
      "        xy = (x, y), xytext = (-10, 10),\n",
      "        textcoords = 'offset points', ha = 'center', va = 'bottom')\n",
      "        #bbox = dict(boxstyle = 'round,pad=0.5', fc = 'yellow', alpha = 0.2))"
     ],
     "language": "python",
     "metadata": {},
     "outputs": [
      {
       "metadata": {},
       "output_type": "display_data",
       "png": "[encoded data removed]",
       "text": [
        "<matplotlib.figure.Figure at 0x109a99e50>"
       ]
      }
     ],
     "prompt_number": 26
    },
    {
     "cell_type": "code",
     "collapsed": false,
     "input": [
      "def scatter_and_fit(joined, figsize=(8, 6)):\n",
      "    from pylab import polyfit, poly1d\n",
      "    \n",
      "    fit = polyfit(joined['Poblaci\u00f3n'], joined['Bares'], 1)\n",
      "    fit_fn = poly1d(fit)\n",
      "    \n",
      "    plt.figure(figsize=figsize, dpi=160)\n",
      "    plt.plot(\n",
      "        joined['Poblaci\u00f3n'],\n",
      "        joined['Bares'],\n",
      "        'bo',\n",
      "        joined['Poblaci\u00f3n'],\n",
      "        fit_fn(joined['Poblaci\u00f3n']),\n",
      "        '--k');\n",
      "    \n",
      "    \n",
      "    for label, x, y in zip(joined.index, joined['Poblaci\u00f3n'], joined['Bares']):\n",
      "        plt.annotate(\n",
      "            label, \n",
      "            xy = (x, y), xytext = (-10, 10),\n",
      "            textcoords = 'offset points', ha = 'center', va = 'bottom',)\n",
      "\n",
      "scatter_and_fit(joined)"
     ],
     "language": "python",
     "metadata": {},
     "outputs": [
      {
       "metadata": {},
       "output_type": "display_data",
       "png": "[encoded data removed]",
       "text": [
        "<matplotlib.figure.Figure at 0x109aaa990>"
       ]
      }
     ],
     "prompt_number": 27
    },
    {
     "cell_type": "code",
     "collapsed": false,
     "input": [
      "initial_length = len(bars)\n",
      "\n",
      "capitals = [to_ascii(provincia) for provincia in bars.Provincia.unique()]\n",
      "bars_caps = bars[bars.Localidad.apply(lambda x: x in capitals)]\n",
      "\n",
      "print initial_length - len(bars_caps), '/', initial_length, \"bars not in capitals discarded.\",\n",
      "print len(bars_caps), \"bars left.\""
     ],
     "language": "python",
     "metadata": {},
     "outputs": [
      {
       "output_type": "stream",
       "stream": "stdout",
       "text": [
        "8268 / 13984 bars not in capitals discarded. 5716 bars left.\n"
       ]
      }
     ],
     "prompt_number": 46
    },
    {
     "cell_type": "code",
     "collapsed": false,
     "input": [
      "by_municipio_gb = bars_caps.groupby('Municipio')\n",
      "by_municipio = pd.DataFrame({'Bares': by_municipio_gb.size()})\n",
      "by_municipio.set_index(by_municipio.index.map(to_ascii), inplace=True)\n",
      "by_municipio"
     ],
     "language": "python",
     "metadata": {},
     "outputs": [
      {
       "html": [
        "<div style=\"max-height:1000px;max-width:1500px;overflow:auto;\">\n",
        "<table border=\"1\" class=\"dataframe\">\n",
        "  <thead>\n",
        "    <tr style=\"text-align: right;\">\n",
        "      <th></th>\n",
        "      <th>Bares</th>\n",
        "    </tr>\n",
        "  </thead>\n",
        "  <tbody>\n",
        "    <tr>\n",
        "      <th>BURGOS</th>\n",
        "      <td>  756</td>\n",
        "    </tr>\n",
        "    <tr>\n",
        "      <th>LEON</th>\n",
        "      <td>  728</td>\n",
        "    </tr>\n",
        "    <tr>\n",
        "      <th>PALENCIA</th>\n",
        "      <td>  405</td>\n",
        "    </tr>\n",
        "    <tr>\n",
        "      <th>SALAMANCA</th>\n",
        "      <td>  589</td>\n",
        "    </tr>\n",
        "    <tr>\n",
        "      <th>SEGOVIA</th>\n",
        "      <td>  209</td>\n",
        "    </tr>\n",
        "    <tr>\n",
        "      <th>SORIA</th>\n",
        "      <td>  138</td>\n",
        "    </tr>\n",
        "    <tr>\n",
        "      <th>VALLADOLID</th>\n",
        "      <td> 2276</td>\n",
        "    </tr>\n",
        "    <tr>\n",
        "      <th>ZAMORA</th>\n",
        "      <td>  380</td>\n",
        "    </tr>\n",
        "    <tr>\n",
        "      <th>AVILA</th>\n",
        "      <td>  235</td>\n",
        "    </tr>\n",
        "  </tbody>\n",
        "</table>\n",
        "</div>"
       ],
       "metadata": {},
       "output_type": "pyout",
       "prompt_number": 47,
       "text": [
        "            Bares\n",
        "BURGOS        756\n",
        "LEON          728\n",
        "PALENCIA      405\n",
        "SALAMANCA     589\n",
        "SEGOVIA       209\n",
        "SORIA         138\n",
        "VALLADOLID   2276\n",
        "ZAMORA        380\n",
        "AVILA         235"
       ]
      }
     ],
     "prompt_number": 47
    },
    {
     "cell_type": "code",
     "collapsed": false,
     "input": [
      "population_caps = pd.read_excel('poblacion_por_provincias.xls', 'capitales', header=0, index_col='Capital')\n",
      "population_caps.set_index(population_caps.index.map(to_ascii), inplace=True)\n",
      "population_caps = population_caps.rename_axis({'Total': 'Poblaci\u00f3n'})\n",
      "population_caps"
     ],
     "language": "python",
     "metadata": {},
     "outputs": [
      {
       "html": [
        "<div style=\"max-height:1000px;max-width:1500px;overflow:auto;\">\n",
        "<table border=\"1\" class=\"dataframe\">\n",
        "  <thead>\n",
        "    <tr style=\"text-align: right;\">\n",
        "      <th></th>\n",
        "      <th>Poblaci\u00f3n</th>\n",
        "    </tr>\n",
        "  </thead>\n",
        "  <tbody>\n",
        "    <tr>\n",
        "      <th>AVILA</th>\n",
        "      <td>  59008</td>\n",
        "    </tr>\n",
        "    <tr>\n",
        "      <th>BURGOS</th>\n",
        "      <td> 178966</td>\n",
        "    </tr>\n",
        "    <tr>\n",
        "      <th>LEON</th>\n",
        "      <td> 134305</td>\n",
        "    </tr>\n",
        "    <tr>\n",
        "      <th>PALENCIA</th>\n",
        "      <td>  82651</td>\n",
        "    </tr>\n",
        "    <tr>\n",
        "      <th>SALAMANCA</th>\n",
        "      <td> 155619</td>\n",
        "    </tr>\n",
        "    <tr>\n",
        "      <th>SEGOVIA</th>\n",
        "      <td>  55220</td>\n",
        "    </tr>\n",
        "    <tr>\n",
        "      <th>SORIA</th>\n",
        "      <td>  39528</td>\n",
        "    </tr>\n",
        "    <tr>\n",
        "      <th>VALLADOLID</th>\n",
        "      <td> 317864</td>\n",
        "    </tr>\n",
        "    <tr>\n",
        "      <th>ZAMORA</th>\n",
        "      <td>  65525</td>\n",
        "    </tr>\n",
        "  </tbody>\n",
        "</table>\n",
        "</div>"
       ],
       "metadata": {},
       "output_type": "pyout",
       "prompt_number": 48,
       "text": [
        "            Poblaci\u00f3n\n",
        "AVILA           59008\n",
        "BURGOS         178966\n",
        "LEON           134305\n",
        "PALENCIA        82651\n",
        "SALAMANCA      155619\n",
        "SEGOVIA         55220\n",
        "SORIA           39528\n",
        "VALLADOLID     317864\n",
        "ZAMORA          65525"
       ]
      }
     ],
     "prompt_number": 48
    },
    {
     "cell_type": "code",
     "collapsed": false,
     "input": [
      "population_caps.reset_index()"
     ],
     "language": "python",
     "metadata": {},
     "outputs": [
      {
       "html": [
        "<div style=\"max-height:1000px;max-width:1500px;overflow:auto;\">\n",
        "<table border=\"1\" class=\"dataframe\">\n",
        "  <thead>\n",
        "    <tr style=\"text-align: right;\">\n",
        "      <th></th>\n",
        "      <th>index</th>\n",
        "      <th>Poblaci\u00f3n</th>\n",
        "    </tr>\n",
        "  </thead>\n",
        "  <tbody>\n",
        "    <tr>\n",
        "      <th>0</th>\n",
        "      <td>      AVILA</td>\n",
        "      <td>  59008</td>\n",
        "    </tr>\n",
        "    <tr>\n",
        "      <th>1</th>\n",
        "      <td>     BURGOS</td>\n",
        "      <td> 178966</td>\n",
        "    </tr>\n",
        "    <tr>\n",
        "      <th>2</th>\n",
        "      <td>       LEON</td>\n",
        "      <td> 134305</td>\n",
        "    </tr>\n",
        "    <tr>\n",
        "      <th>3</th>\n",
        "      <td>   PALENCIA</td>\n",
        "      <td>  82651</td>\n",
        "    </tr>\n",
        "    <tr>\n",
        "      <th>4</th>\n",
        "      <td>  SALAMANCA</td>\n",
        "      <td> 155619</td>\n",
        "    </tr>\n",
        "    <tr>\n",
        "      <th>5</th>\n",
        "      <td>    SEGOVIA</td>\n",
        "      <td>  55220</td>\n",
        "    </tr>\n",
        "    <tr>\n",
        "      <th>6</th>\n",
        "      <td>      SORIA</td>\n",
        "      <td>  39528</td>\n",
        "    </tr>\n",
        "    <tr>\n",
        "      <th>7</th>\n",
        "      <td> VALLADOLID</td>\n",
        "      <td> 317864</td>\n",
        "    </tr>\n",
        "    <tr>\n",
        "      <th>8</th>\n",
        "      <td>     ZAMORA</td>\n",
        "      <td>  65525</td>\n",
        "    </tr>\n",
        "  </tbody>\n",
        "</table>\n",
        "</div>"
       ],
       "metadata": {},
       "output_type": "pyout",
       "prompt_number": 49,
       "text": [
        "        index  Poblaci\u00f3n\n",
        "0       AVILA      59008\n",
        "1      BURGOS     178966\n",
        "2        LEON     134305\n",
        "3    PALENCIA      82651\n",
        "4   SALAMANCA     155619\n",
        "5     SEGOVIA      55220\n",
        "6       SORIA      39528\n",
        "7  VALLADOLID     317864\n",
        "8      ZAMORA      65525"
       ]
      }
     ],
     "prompt_number": 49
    },
    {
     "cell_type": "code",
     "collapsed": false,
     "input": [
      "joined2 = pd.merge(by_municipio.reset_index(), population_caps.reset_index()).set_index('index')\n",
      "joined2"
     ],
     "language": "python",
     "metadata": {},
     "outputs": [
      {
       "html": [
        "<div style=\"max-height:1000px;max-width:1500px;overflow:auto;\">\n",
        "<table border=\"1\" class=\"dataframe\">\n",
        "  <thead>\n",
        "    <tr style=\"text-align: right;\">\n",
        "      <th></th>\n",
        "      <th>Bares</th>\n",
        "      <th>Poblaci\u00f3n</th>\n",
        "    </tr>\n",
        "    <tr>\n",
        "      <th>index</th>\n",
        "      <th></th>\n",
        "      <th></th>\n",
        "    </tr>\n",
        "  </thead>\n",
        "  <tbody>\n",
        "    <tr>\n",
        "      <th>BURGOS</th>\n",
        "      <td>  756</td>\n",
        "      <td> 178966</td>\n",
        "    </tr>\n",
        "    <tr>\n",
        "      <th>LEON</th>\n",
        "      <td>  728</td>\n",
        "      <td> 134305</td>\n",
        "    </tr>\n",
        "    <tr>\n",
        "      <th>PALENCIA</th>\n",
        "      <td>  405</td>\n",
        "      <td>  82651</td>\n",
        "    </tr>\n",
        "    <tr>\n",
        "      <th>SALAMANCA</th>\n",
        "      <td>  589</td>\n",
        "      <td> 155619</td>\n",
        "    </tr>\n",
        "    <tr>\n",
        "      <th>SEGOVIA</th>\n",
        "      <td>  209</td>\n",
        "      <td>  55220</td>\n",
        "    </tr>\n",
        "    <tr>\n",
        "      <th>SORIA</th>\n",
        "      <td>  138</td>\n",
        "      <td>  39528</td>\n",
        "    </tr>\n",
        "    <tr>\n",
        "      <th>VALLADOLID</th>\n",
        "      <td> 2276</td>\n",
        "      <td> 317864</td>\n",
        "    </tr>\n",
        "    <tr>\n",
        "      <th>ZAMORA</th>\n",
        "      <td>  380</td>\n",
        "      <td>  65525</td>\n",
        "    </tr>\n",
        "    <tr>\n",
        "      <th>AVILA</th>\n",
        "      <td>  235</td>\n",
        "      <td>  59008</td>\n",
        "    </tr>\n",
        "  </tbody>\n",
        "</table>\n",
        "</div>"
       ],
       "metadata": {},
       "output_type": "pyout",
       "prompt_number": 50,
       "text": [
        "            Bares  Poblaci\u00f3n\n",
        "index                       \n",
        "BURGOS        756     178966\n",
        "LEON          728     134305\n",
        "PALENCIA      405      82651\n",
        "SALAMANCA     589     155619\n",
        "SEGOVIA       209      55220\n",
        "SORIA         138      39528\n",
        "VALLADOLID   2276     317864\n",
        "ZAMORA        380      65525\n",
        "AVILA         235      59008"
       ]
      }
     ],
     "prompt_number": 50
    },
    {
     "cell_type": "code",
     "collapsed": false,
     "input": [
      "scatter_and_fit(joined)"
     ],
     "language": "python",
     "metadata": {},
     "outputs": [
      {
       "metadata": {},
       "output_type": "display_data",
       "png": "[encoded data removed]",
       "text": [
        "<matplotlib.figure.Figure at 0x108dcaf10>"
       ]
      }
     ],
     "prompt_number": 51
    },
    {
     "cell_type": "code",
     "collapsed": false,
     "input": [
      "scatter_and_fit(joined2[joined2.index != 'VALLADOLID'], (7, 4))"
     ],
     "language": "python",
     "metadata": {},
     "outputs": [
      {
       "metadata": {},
       "output_type": "display_data",
       "png": "[encoded data removed]",
       "text": [
        "<matplotlib.figure.Figure at 0x109f28750>"
       ]
      }
     ],
     "prompt_number": 52
    },
    {
     "cell_type": "code",
     "collapsed": false,
     "input": [
      "scatter_and_fit(joined[joined.index != 'VALLADOLID'], (7, 4))"
     ],
     "language": "python",
     "metadata": {},
     "outputs": [
      {
       "metadata": {},
       "output_type": "display_data",
       "png": "[encoded data removed]",
       "text": [
        "<matplotlib.figure.Figure at 0x10929f610>"
       ]
      }
     ],
     "prompt_number": 53
    },
    {
     "cell_type": "code",
     "collapsed": false,
     "input": [
      "joined2['Bares por 10K hab'] = 10**4 * joined2['Bares'] / joined2['Poblaci\u00f3n']\n",
      "joined2['Bares por 10K hab'] = joined2['Bares por 10K hab'].apply(round)\n",
      "joined2.sort('Bares por 10K hab')['Bares por 10K hab'].plot(rot=20)"
     ],
     "language": "python",
     "metadata": {},
     "outputs": [
      {
       "metadata": {},
       "output_type": "pyout",
       "prompt_number": 54,
       "text": [
        "<matplotlib.axes.AxesSubplot at 0x10ae7f650>"
       ]
      },
      {
       "metadata": {},
       "output_type": "display_data",
       "png": "[encoded data removed]",
       "text": [
        "<matplotlib.figure.Figure at 0x10aec5a10>"
       ]
      }
     ],
     "prompt_number": 54
    },
    {
     "cell_type": "code",
     "collapsed": false,
     "input": [
      "localidades = bars.copy()\n",
      "localidades['Localidad'] = localidades['Localidad'].apply(\n",
      "    lambda x: to_ascii(x.split(' (')[0]).upper()) + ', ' + localidades['Provincia'].apply(lambda x: to_ascii(x).upper())\n",
      "por_localidad = pd.DataFrame({'Bares': localidades.groupby('Localidad').size()})\n",
      "por_localidad[por_localidad.Bares >= 10]\n",
      "por_localidad"
     ],
     "language": "python",
     "metadata": {},
     "outputs": [
      {
       "html": [
        "<pre>\n",
        "&lt;class 'pandas.core.frame.DataFrame'&gt;\n",
        "Index: 2025 entries, ABADES, SEGOVIA to ZUZONES, BURGOS\n",
        "Data columns (total 1 columns):\n",
        "Bares    2025  non-null values\n",
        "dtypes: int64(1)\n",
        "</pre>"
       ],
       "metadata": {},
       "output_type": "pyout",
       "prompt_number": 55,
       "text": [
        "<class 'pandas.core.frame.DataFrame'>\n",
        "Index: 2025 entries, ABADES, SEGOVIA to ZUZONES, BURGOS\n",
        "Data columns (total 1 columns):\n",
        "Bares    2025  non-null values\n",
        "dtypes: int64(1)"
       ]
      }
     ],
     "prompt_number": 55
    },
    {
     "cell_type": "code",
     "collapsed": false,
     "input": [
      "por_localidad.head(10)"
     ],
     "language": "python",
     "metadata": {},
     "outputs": [
      {
       "html": [
        "<div style=\"max-height:1000px;max-width:1500px;overflow:auto;\">\n",
        "<table border=\"1\" class=\"dataframe\">\n",
        "  <thead>\n",
        "    <tr style=\"text-align: right;\">\n",
        "      <th></th>\n",
        "      <th>Bares</th>\n",
        "    </tr>\n",
        "    <tr>\n",
        "      <th>Localidad</th>\n",
        "      <th></th>\n",
        "    </tr>\n",
        "  </thead>\n",
        "  <tbody>\n",
        "    <tr>\n",
        "      <th>ABADES, SEGOVIA</th>\n",
        "      <td> 4</td>\n",
        "    </tr>\n",
        "    <tr>\n",
        "      <th>ABEJAR, SORIA</th>\n",
        "      <td> 1</td>\n",
        "    </tr>\n",
        "    <tr>\n",
        "      <th>ABEJERA, ZAMORA</th>\n",
        "      <td> 1</td>\n",
        "    </tr>\n",
        "    <tr>\n",
        "      <th>ABELGAS DE LUNA, LEON</th>\n",
        "      <td> 1</td>\n",
        "    </tr>\n",
        "    <tr>\n",
        "      <th>ABELON, ZAMORA</th>\n",
        "      <td> 2</td>\n",
        "    </tr>\n",
        "    <tr>\n",
        "      <th>ABRAVESES DE TERA, ZAMORA</th>\n",
        "      <td> 1</td>\n",
        "    </tr>\n",
        "    <tr>\n",
        "      <th>ABUSEJO, SALAMANCA</th>\n",
        "      <td> 1</td>\n",
        "    </tr>\n",
        "    <tr>\n",
        "      <th>ACEBEDO, LEON</th>\n",
        "      <td> 1</td>\n",
        "    </tr>\n",
        "    <tr>\n",
        "      <th>ACEBES DEL PARAMO, LEON</th>\n",
        "      <td> 1</td>\n",
        "    </tr>\n",
        "    <tr>\n",
        "      <th>ADANERO, AVILA</th>\n",
        "      <td> 4</td>\n",
        "    </tr>\n",
        "  </tbody>\n",
        "</table>\n",
        "</div>"
       ],
       "metadata": {},
       "output_type": "pyout",
       "prompt_number": 56,
       "text": [
        "                           Bares\n",
        "Localidad                       \n",
        "ABADES, SEGOVIA                4\n",
        "ABEJAR, SORIA                  1\n",
        "ABEJERA, ZAMORA                1\n",
        "ABELGAS DE LUNA, LEON          1\n",
        "ABELON, ZAMORA                 2\n",
        "ABRAVESES DE TERA, ZAMORA      1\n",
        "ABUSEJO, SALAMANCA             1\n",
        "ACEBEDO, LEON                  1\n",
        "ACEBES DEL PARAMO, LEON        1\n",
        "ADANERO, AVILA                 4"
       ]
      }
     ],
     "prompt_number": 56
    },
    {
     "cell_type": "code",
     "collapsed": false,
     "input": [
      "# http://www.jcyl.es/web/jcyl/Estadistica/es/Plantilla100/1284253352941/_/_/_\n",
      "\n",
      "population_locs = pd.DataFrame()\n",
      "\n",
      "for prov in joined.index:\n",
      "    population_loc = pd.read_excel('poblacion_por_localidad.xls', prov, header=0, index_col='Localidad')\n",
      "    population_loc = population_loc.set_index(population_loc.index.map(\n",
      "        lambda x: '{}, {}'.format(to_ascii(x).strip().split(', ')[0], prov)))\n",
      "    population_loc = population_loc.rename_axis({'Total': 'Poblaci\u00f3n'})\n",
      "    print '{} + {}'.format(len(population_locs), len(population_loc))\n",
      "    population_locs = pd.concat([population_locs, population_loc])"
     ],
     "language": "python",
     "metadata": {},
     "outputs": [
      {
       "output_type": "stream",
       "stream": "stdout",
       "text": [
        "0 + 248\n",
        "248 + 371"
       ]
      },
      {
       "output_type": "stream",
       "stream": "stdout",
       "text": [
        "\n",
        "619 + 211"
       ]
      },
      {
       "output_type": "stream",
       "stream": "stdout",
       "text": [
        "\n",
        "830 + 191"
       ]
      },
      {
       "output_type": "stream",
       "stream": "stdout",
       "text": [
        "\n",
        "1021 + 362"
       ]
      },
      {
       "output_type": "stream",
       "stream": "stdout",
       "text": [
        "\n",
        "1383 + 209\n",
        "1592 + 183"
       ]
      },
      {
       "output_type": "stream",
       "stream": "stdout",
       "text": [
        "\n",
        "1775 + 225\n",
        "2000 + 248"
       ]
      },
      {
       "output_type": "stream",
       "stream": "stdout",
       "text": [
        "\n"
       ]
      }
     ],
     "prompt_number": 57
    },
    {
     "cell_type": "code",
     "collapsed": false,
     "input": [
      "population_locs.head()"
     ],
     "language": "python",
     "metadata": {},
     "outputs": [
      {
       "html": [
        "<div style=\"max-height:1000px;max-width:1500px;overflow:auto;\">\n",
        "<table border=\"1\" class=\"dataframe\">\n",
        "  <thead>\n",
        "    <tr style=\"text-align: right;\">\n",
        "      <th></th>\n",
        "      <th>Poblaci\u00f3n</th>\n",
        "    </tr>\n",
        "  </thead>\n",
        "  <tbody>\n",
        "    <tr>\n",
        "      <th>ADANERO, AVILA</th>\n",
        "      <td>  266</td>\n",
        "    </tr>\n",
        "    <tr>\n",
        "      <th>ADRADA, AVILA</th>\n",
        "      <td> 2704</td>\n",
        "    </tr>\n",
        "    <tr>\n",
        "      <th>ALBORNOS, AVILA</th>\n",
        "      <td>  218</td>\n",
        "    </tr>\n",
        "    <tr>\n",
        "      <th>ALDEANUEVA DE SANTA CRUZ, AVILA</th>\n",
        "      <td>  136</td>\n",
        "    </tr>\n",
        "    <tr>\n",
        "      <th>ALDEASECA, AVILA</th>\n",
        "      <td>  273</td>\n",
        "    </tr>\n",
        "  </tbody>\n",
        "</table>\n",
        "</div>"
       ],
       "metadata": {},
       "output_type": "pyout",
       "prompt_number": 58,
       "text": [
        "                                 Poblaci\u00f3n\n",
        "ADANERO, AVILA                         266\n",
        "ADRADA, AVILA                         2704\n",
        "ALBORNOS, AVILA                        218\n",
        "ALDEANUEVA DE SANTA CRUZ, AVILA        136\n",
        "ALDEASECA, AVILA                       273"
       ]
      }
     ],
     "prompt_number": 58
    },
    {
     "cell_type": "code",
     "collapsed": false,
     "input": [
      "print len(por_localidad), len(population_locs)\n",
      "print sum([ix in por_localidad.index for ix in population_locs.index])"
     ],
     "language": "python",
     "metadata": {},
     "outputs": [
      {
       "output_type": "stream",
       "stream": "stdout",
       "text": [
        "2025 2248\n",
        "1382\n"
       ]
      }
     ],
     "prompt_number": 59
    },
    {
     "cell_type": "code",
     "collapsed": false,
     "input": [
      "df = por_localidad.join(population_locs, how='inner')\n",
      "df"
     ],
     "language": "python",
     "metadata": {},
     "outputs": [
      {
       "html": [
        "<pre>\n",
        "&lt;class 'pandas.core.frame.DataFrame'&gt;\n",
        "Index: 1382 entries, ADANERO, AVILA to ZAMORA, ZAMORA\n",
        "Data columns (total 2 columns):\n",
        "Bares        1382  non-null values\n",
        "Poblaci\u00f3n    1382  non-null values\n",
        "dtypes: float64(1), int64(1)\n",
        "</pre>"
       ],
       "metadata": {},
       "output_type": "pyout",
       "prompt_number": 60,
       "text": [
        "<class 'pandas.core.frame.DataFrame'>\n",
        "Index: 1382 entries, ADANERO, AVILA to ZAMORA, ZAMORA\n",
        "Data columns (total 2 columns):\n",
        "Bares        1382  non-null values\n",
        "Poblaci\u00f3n    1382  non-null values\n",
        "dtypes: float64(1), int64(1)"
       ]
      }
     ],
     "prompt_number": 60
    },
    {
     "cell_type": "code",
     "collapsed": false,
     "input": [
      "df.columns"
     ],
     "language": "python",
     "metadata": {},
     "outputs": [
      {
       "metadata": {},
       "output_type": "pyout",
       "prompt_number": 61,
       "text": [
        "Index([u'Bares', u'Poblaci\u00f3n'], dtype=object)"
       ]
      }
     ],
     "prompt_number": 61
    },
    {
     "cell_type": "code",
     "collapsed": false,
     "input": [
      "df['Habitantes por bar'] = df[u'Poblaci\u00f3n'] / df.Bares\n",
      "df.head()"
     ],
     "language": "python",
     "metadata": {},
     "outputs": [
      {
       "html": [
        "<div style=\"max-height:1000px;max-width:1500px;overflow:auto;\">\n",
        "<table border=\"1\" class=\"dataframe\">\n",
        "  <thead>\n",
        "    <tr style=\"text-align: right;\">\n",
        "      <th></th>\n",
        "      <th>Bares</th>\n",
        "      <th>Poblaci\u00f3n</th>\n",
        "      <th>Habitantes por bar</th>\n",
        "    </tr>\n",
        "    <tr>\n",
        "      <th>Localidad</th>\n",
        "      <th></th>\n",
        "      <th></th>\n",
        "      <th></th>\n",
        "    </tr>\n",
        "  </thead>\n",
        "  <tbody>\n",
        "    <tr>\n",
        "      <th>ADANERO, AVILA</th>\n",
        "      <td>  4</td>\n",
        "      <td>  266</td>\n",
        "      <td>  66.50</td>\n",
        "    </tr>\n",
        "    <tr>\n",
        "      <th>ADRADA, AVILA</th>\n",
        "      <td> 25</td>\n",
        "      <td> 2704</td>\n",
        "      <td> 108.16</td>\n",
        "    </tr>\n",
        "    <tr>\n",
        "      <th>ALBORNOS, AVILA</th>\n",
        "      <td>  2</td>\n",
        "      <td>  218</td>\n",
        "      <td> 109.00</td>\n",
        "    </tr>\n",
        "    <tr>\n",
        "      <th>ALDEANUEVA DE SANTA CRUZ, AVILA</th>\n",
        "      <td>  2</td>\n",
        "      <td>  136</td>\n",
        "      <td>  68.00</td>\n",
        "    </tr>\n",
        "    <tr>\n",
        "      <th>ALDEASECA, AVILA</th>\n",
        "      <td>  1</td>\n",
        "      <td>  273</td>\n",
        "      <td> 273.00</td>\n",
        "    </tr>\n",
        "  </tbody>\n",
        "</table>\n",
        "</div>"
       ],
       "metadata": {},
       "output_type": "pyout",
       "prompt_number": 62,
       "text": [
        "                                 Bares  Poblaci\u00f3n  Habitantes por bar\n",
        "Localidad                                                            \n",
        "ADANERO, AVILA                       4        266               66.50\n",
        "ADRADA, AVILA                       25       2704              108.16\n",
        "ALBORNOS, AVILA                      2        218              109.00\n",
        "ALDEANUEVA DE SANTA CRUZ, AVILA      2        136               68.00\n",
        "ALDEASECA, AVILA                     1        273              273.00"
       ]
      }
     ],
     "prompt_number": 62
    },
    {
     "cell_type": "code",
     "collapsed": false,
     "input": [
      "df[df.Bares >= 50].sort('Habitantes por bar').head(10)"
     ],
     "language": "python",
     "metadata": {},
     "outputs": [
      {
       "html": [
        "<div style=\"max-height:1000px;max-width:1500px;overflow:auto;\">\n",
        "<table border=\"1\" class=\"dataframe\">\n",
        "  <thead>\n",
        "    <tr style=\"text-align: right;\">\n",
        "      <th></th>\n",
        "      <th>Bares</th>\n",
        "      <th>Poblaci\u00f3n</th>\n",
        "      <th>Habitantes por bar</th>\n",
        "    </tr>\n",
        "    <tr>\n",
        "      <th>Localidad</th>\n",
        "      <th></th>\n",
        "      <th></th>\n",
        "      <th></th>\n",
        "    </tr>\n",
        "  </thead>\n",
        "  <tbody>\n",
        "    <tr>\n",
        "      <th>MEDINA DEL CAMPO, VALLADOLID</th>\n",
        "      <td>  185</td>\n",
        "      <td>  21594</td>\n",
        "      <td> 116.724324</td>\n",
        "    </tr>\n",
        "    <tr>\n",
        "      <th>VALLADOLID, VALLADOLID</th>\n",
        "      <td> 2276</td>\n",
        "      <td> 311501</td>\n",
        "      <td> 136.863357</td>\n",
        "    </tr>\n",
        "    <tr>\n",
        "      <th>BENAVENTE, ZAMORA</th>\n",
        "      <td>  127</td>\n",
        "      <td>  19259</td>\n",
        "      <td> 151.645669</td>\n",
        "    </tr>\n",
        "    <tr>\n",
        "      <th>ZAMORA, ZAMORA</th>\n",
        "      <td>  380</td>\n",
        "      <td>  65362</td>\n",
        "      <td> 172.005263</td>\n",
        "    </tr>\n",
        "    <tr>\n",
        "      <th>LEON, LEON</th>\n",
        "      <td>  728</td>\n",
        "      <td> 131680</td>\n",
        "      <td> 180.879121</td>\n",
        "    </tr>\n",
        "    <tr>\n",
        "      <th>PALENCIA, PALENCIA</th>\n",
        "      <td>  405</td>\n",
        "      <td>  81198</td>\n",
        "      <td> 200.488889</td>\n",
        "    </tr>\n",
        "    <tr>\n",
        "      <th>ARANDA DE DUERO, BURGOS</th>\n",
        "      <td>  150</td>\n",
        "      <td>  33459</td>\n",
        "      <td> 223.060000</td>\n",
        "    </tr>\n",
        "    <tr>\n",
        "      <th>BURGOS, BURGOS</th>\n",
        "      <td>  756</td>\n",
        "      <td> 179906</td>\n",
        "      <td> 237.970899</td>\n",
        "    </tr>\n",
        "    <tr>\n",
        "      <th>AVILA, AVILA</th>\n",
        "      <td>  235</td>\n",
        "      <td>  58915</td>\n",
        "      <td> 250.702128</td>\n",
        "    </tr>\n",
        "    <tr>\n",
        "      <th>SALAMANCA, SALAMANCA</th>\n",
        "      <td>  589</td>\n",
        "      <td> 152048</td>\n",
        "      <td> 258.146010</td>\n",
        "    </tr>\n",
        "  </tbody>\n",
        "</table>\n",
        "</div>"
       ],
       "metadata": {},
       "output_type": "pyout",
       "prompt_number": 63,
       "text": [
        "                              Bares  Poblaci\u00f3n  Habitantes por bar\n",
        "Localidad                                                         \n",
        "MEDINA DEL CAMPO, VALLADOLID    185      21594          116.724324\n",
        "VALLADOLID, VALLADOLID         2276     311501          136.863357\n",
        "BENAVENTE, ZAMORA               127      19259          151.645669\n",
        "ZAMORA, ZAMORA                  380      65362          172.005263\n",
        "LEON, LEON                      728     131680          180.879121\n",
        "PALENCIA, PALENCIA              405      81198          200.488889\n",
        "ARANDA DE DUERO, BURGOS         150      33459          223.060000\n",
        "BURGOS, BURGOS                  756     179906          237.970899\n",
        "AVILA, AVILA                    235      58915          250.702128\n",
        "SALAMANCA, SALAMANCA            589     152048          258.146010"
       ]
      }
     ],
     "prompt_number": 63
    }
   ],
   "metadata": {}
  }
 ]
}