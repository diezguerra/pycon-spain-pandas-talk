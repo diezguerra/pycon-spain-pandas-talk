{
 "metadata": {
  "name": ""
 },
 "nbformat": 3,
 "nbformat_minor": 0,
 "worksheets": [
  {
   "cells": [
    {
     "cell_type": "markdown",
     "metadata": {},
     "source": [
      "# Pandas bowling: convierte tus datos en informaci\u00f3n\n",
      "*Introducci\u00f3n a la manipulaci\u00f3n de datos utilizando pandas contra un set de datos p\u00fablicos. Data munging: filtering, merging, grouping, estad\u00edsticas comunes e introducci\u00f3n al plotting.*"
     ]
    },
    {
     "cell_type": "markdown",
     "metadata": {},
     "source": [
      "![Pandas bowling](http://i50.tinypic.com/k30phw.gif)"
     ]
    },
    {
     "cell_type": "code",
     "collapsed": false,
     "input": [
      "import pandas as pd\n",
      "import csv\n",
      "import re\n",
      "import unicodedata"
     ],
     "language": "python",
     "metadata": {},
     "outputs": []
    },
    {
     "cell_type": "code",
     "collapsed": false,
     "input": [
      "# Delimiter ; \n",
      "# Awkward encoding\n",
      "\n",
      "dialect = csv.excel()\n",
      "dialect.delimiter = ';'\n",
      "# Source: http://www.datosabiertos.jcyl.es/web/jcyl/risp/es/directorio/bares/1284211832884.csv\n",
      "bars = pd.read_csv('bares.csv', dialect=dialect, encoding='cp1252')\n",
      "\n",
      "to_ascii = lambda text: unicodedata.normalize('NFKD', text).encode('ASCII', 'ignore').upper()"
     ],
     "language": "python",
     "metadata": {},
     "outputs": []
    },
    {
     "cell_type": "code",
     "collapsed": false,
     "input": [
      "bars"
     ],
     "language": "python",
     "metadata": {},
     "outputs": []
    },
    {
     "cell_type": "code",
     "collapsed": false,
     "input": [
      "bars.tail(1)"
     ],
     "language": "python",
     "metadata": {},
     "outputs": []
    },
    {
     "cell_type": "code",
     "collapsed": false,
     "input": [
      "bars.Localidad.apply(lambda x: x.find('LA ') != -1)"
     ],
     "language": "python",
     "metadata": {},
     "outputs": []
    },
    {
     "cell_type": "code",
     "collapsed": false,
     "input": [
      "bars[bars.Localidad.apply(lambda x: x.find('LA ') != -1)]"
     ],
     "language": "python",
     "metadata": {},
     "outputs": []
    },
    {
     "cell_type": "code",
     "collapsed": false,
     "input": [
      "# Selecci\u00f3n de filas\n",
      "bars.iloc[0]\n",
      "bars.loc[0]\n",
      "bars.ix[0]\n",
      "bars.T[0]"
     ],
     "language": "python",
     "metadata": {},
     "outputs": []
    },
    {
     "cell_type": "code",
     "collapsed": false,
     "input": [
      "bars[0]"
     ],
     "language": "python",
     "metadata": {},
     "outputs": []
    },
    {
     "cell_type": "code",
     "collapsed": false,
     "input": [
      "bars.tail(1)"
     ],
     "language": "python",
     "metadata": {},
     "outputs": []
    },
    {
     "cell_type": "code",
     "collapsed": false,
     "input": [
      "web_only = bars.dropna(subset=['web'])\n",
      "len(web_only)\n",
      "web_only[web_only.Localidad == 'BURGOS']"
     ],
     "language": "python",
     "metadata": {},
     "outputs": []
    },
    {
     "cell_type": "code",
     "collapsed": false,
     "input": [
      "bars[\"C.Postal\"]"
     ],
     "language": "python",
     "metadata": {},
     "outputs": []
    },
    {
     "cell_type": "code",
     "collapsed": false,
     "input": [
      "bars.Provincia"
     ],
     "language": "python",
     "metadata": {},
     "outputs": []
    },
    {
     "cell_type": "code",
     "collapsed": false,
     "input": [
      "by_provincia_gb = bars.groupby('Provincia')\n",
      "by_provincia_gb"
     ],
     "language": "python",
     "metadata": {},
     "outputs": []
    },
    {
     "cell_type": "code",
     "collapsed": false,
     "input": [
      "by_provincia_gb.web.get_group(u'Le\u00f3n').dropna()"
     ],
     "language": "python",
     "metadata": {},
     "outputs": []
    },
    {
     "cell_type": "code",
     "collapsed": false,
     "input": [
      "by_provincia = pd.DataFrame({'Bares': by_provincia_gb.size()})\n",
      "by_provincia"
     ],
     "language": "python",
     "metadata": {},
     "outputs": []
    },
    {
     "cell_type": "code",
     "collapsed": false,
     "input": [
      "by_provincia.index"
     ],
     "language": "python",
     "metadata": {},
     "outputs": []
    },
    {
     "cell_type": "code",
     "collapsed": false,
     "input": [
      "by_provincia.sort('Bares', ascending=False)"
     ],
     "language": "python",
     "metadata": {},
     "outputs": []
    },
    {
     "cell_type": "code",
     "collapsed": false,
     "input": [
      "by_provincia.plot(rot=20)"
     ],
     "language": "python",
     "metadata": {},
     "outputs": []
    },
    {
     "cell_type": "code",
     "collapsed": false,
     "input": [
      "population = pd.read_excel('poblacion_por_provincias.xls', 'poblacion')\n",
      "population['Provincia'] = population.Provincia.apply(to_ascii)\n",
      "population.columns = 'Provincia', 'Poblaci\u00f3n'\n",
      "population = population.set_index('Provincia')\n",
      "population"
     ],
     "language": "python",
     "metadata": {},
     "outputs": []
    },
    {
     "cell_type": "code",
     "collapsed": false,
     "input": [
      "joined = population.join(by_provincia)\n",
      "joined"
     ],
     "language": "python",
     "metadata": {},
     "outputs": []
    },
    {
     "cell_type": "code",
     "collapsed": false,
     "input": [
      "by_provincia = by_provincia.set_index(by_provincia.index.map(lambda prov: to_ascii(prov)))"
     ],
     "language": "python",
     "metadata": {},
     "outputs": []
    },
    {
     "cell_type": "code",
     "collapsed": false,
     "input": [
      "joined = population.join(by_provincia)\n",
      "joined"
     ],
     "language": "python",
     "metadata": {},
     "outputs": []
    },
    {
     "cell_type": "code",
     "collapsed": false,
     "input": [
      "joined['Poblaci\u00f3n'].sum()"
     ],
     "language": "python",
     "metadata": {},
     "outputs": []
    },
    {
     "cell_type": "code",
     "collapsed": false,
     "input": [
      "joined.Bares.std()"
     ],
     "language": "python",
     "metadata": {},
     "outputs": []
    },
    {
     "cell_type": "code",
     "collapsed": false,
     "input": [
      "joined[['Poblaci\u00f3n', 'Bares']].corr()"
     ],
     "language": "python",
     "metadata": {},
     "outputs": []
    },
    {
     "cell_type": "code",
     "collapsed": false,
     "input": [
      "joined['Habitantes por bar'] = joined['Poblaci\u00f3n'].astype(float) / joined.Bares\n",
      "joined['Habitantes por bar'] = joined['Habitantes por bar'].apply(round)\n",
      "joined['% Bares'] = joined.Bares.apply(lambda number: round(100 * number / joined.Bares.sum().astype(float), 1))\n",
      "joined['% Poblaci\u00f3n'] = joined['Poblaci\u00f3n'].apply(lambda people: round(100 * people / joined['Poblaci\u00f3n'].sum().astype(float), 1))\n",
      "joined"
     ],
     "language": "python",
     "metadata": {},
     "outputs": []
    },
    {
     "cell_type": "code",
     "collapsed": false,
     "input": [
      "joined[['% Poblaci\u00f3n', '% Bares']].plot()"
     ],
     "language": "python",
     "metadata": {},
     "outputs": []
    },
    {
     "cell_type": "code",
     "collapsed": false,
     "input": [
      "pob_bar = joined[['Poblaci\u00f3n', 'Bares']]\n",
      "\n",
      "pob_bar.Bares.plot()\n",
      "pob_bar['Poblaci\u00f3n'].plot(secondary_y=True, style='g')\n"
     ],
     "language": "python",
     "metadata": {},
     "outputs": []
    },
    {
     "cell_type": "code",
     "collapsed": false,
     "input": [
      "pd.tools.plotting.scatter_plot(joined, 'Poblaci\u00f3n', 'Bares')\n",
      "\n"
     ],
     "language": "python",
     "metadata": {},
     "outputs": []
    },
    {
     "cell_type": "code",
     "collapsed": false,
     "input": [
      "pd.tools.plotting.scatter_plot(joined, 'Poblaci\u00f3n', 'Bares')\n",
      "\n",
      "for label, x, y in zip(joined.index, joined['Poblaci\u00f3n'], joined['Bares']):\n",
      "    plt.annotate(\n",
      "        label, \n",
      "        xy = (x, y), xytext = (-10, 10),\n",
      "        textcoords = 'offset points', ha = 'center', va = 'bottom')\n",
      "        #bbox = dict(boxstyle = 'round,pad=0.5', fc = 'yellow', alpha = 0.2))"
     ],
     "language": "python",
     "metadata": {},
     "outputs": []
    },
    {
     "cell_type": "code",
     "collapsed": false,
     "input": [
      "def scatter_and_fit(joined, figsize=(8, 6)):\n",
      "    from pylab import polyfit, poly1d\n",
      "    \n",
      "    fit = polyfit(joined['Poblaci\u00f3n'], joined['Bares'], 1)\n",
      "    fit_fn = poly1d(fit)\n",
      "    \n",
      "    plt.figure(figsize=figsize, dpi=160)\n",
      "    plt.plot(\n",
      "        joined['Poblaci\u00f3n'],\n",
      "        joined['Bares'],\n",
      "        'bo',\n",
      "        joined['Poblaci\u00f3n'],\n",
      "        fit_fn(joined['Poblaci\u00f3n']),\n",
      "        '--k');\n",
      "    \n",
      "    \n",
      "    for label, x, y in zip(joined.index, joined['Poblaci\u00f3n'], joined['Bares']):\n",
      "        plt.annotate(\n",
      "            label, \n",
      "            xy = (x, y), xytext = (-10, 10),\n",
      "            textcoords = 'offset points', ha = 'center', va = 'bottom',)\n",
      "\n",
      "scatter_and_fit(joined)"
     ],
     "language": "python",
     "metadata": {},
     "outputs": []
    },
    {
     "cell_type": "code",
     "collapsed": false,
     "input": [
      "initial_length = len(bars)\n",
      "\n",
      "capitals = [to_ascii(provincia) for provincia in bars.Provincia.unique()]\n",
      "bars_caps = bars[bars.Localidad.apply(lambda x: x in capitals)]\n",
      "\n",
      "print initial_length - len(bars_caps), '/', initial_length, \"bars not in capitals discarded.\",\n",
      "print len(bars_caps), \"bars left.\""
     ],
     "language": "python",
     "metadata": {},
     "outputs": []
    },
    {
     "cell_type": "code",
     "collapsed": false,
     "input": [
      "by_municipio_gb = bars_caps.groupby('Municipio')\n",
      "by_municipio = pd.DataFrame({'Bares': by_municipio_gb.size()})\n",
      "by_municipio.set_index(by_municipio.index.map(to_ascii), inplace=True)\n",
      "by_municipio"
     ],
     "language": "python",
     "metadata": {},
     "outputs": []
    },
    {
     "cell_type": "code",
     "collapsed": false,
     "input": [
      "population_caps = pd.read_excel('poblacion_por_provincias.xls', 'capitales', header=0, index_col='Capital')\n",
      "population_caps.set_index(population_caps.index.map(to_ascii), inplace=True)\n",
      "population_caps = population_caps.rename_axis({'Total': 'Poblaci\u00f3n'})\n",
      "population_caps"
     ],
     "language": "python",
     "metadata": {},
     "outputs": []
    },
    {
     "cell_type": "code",
     "collapsed": false,
     "input": [
      "population_caps.reset_index()"
     ],
     "language": "python",
     "metadata": {},
     "outputs": []
    },
    {
     "cell_type": "code",
     "collapsed": false,
     "input": [
      "joined2 = pd.merge(by_municipio.reset_index(), population_caps.reset_index()).set_index('index')\n",
      "joined2"
     ],
     "language": "python",
     "metadata": {},
     "outputs": []
    },
    {
     "cell_type": "code",
     "collapsed": false,
     "input": [
      "scatter_and_fit(joined)"
     ],
     "language": "python",
     "metadata": {},
     "outputs": []
    },
    {
     "cell_type": "code",
     "collapsed": false,
     "input": [
      "scatter_and_fit(joined2[joined2.index != 'VALLADOLID'], (7, 4))"
     ],
     "language": "python",
     "metadata": {},
     "outputs": []
    },
    {
     "cell_type": "code",
     "collapsed": false,
     "input": [
      "scatter_and_fit(joined[joined.index != 'VALLADOLID'], (7, 4))"
     ],
     "language": "python",
     "metadata": {},
     "outputs": []
    },
    {
     "cell_type": "code",
     "collapsed": false,
     "input": [
      "joined2['Bares por 10K hab'] = 10**4 * joined2['Bares'] / joined2['Poblaci\u00f3n']\n",
      "joined2['Bares por 10K hab'] = joined2['Bares por 10K hab'].apply(round)\n",
      "joined2.sort('Bares por 10K hab')['Bares por 10K hab'].plot(rot=20)"
     ],
     "language": "python",
     "metadata": {},
     "outputs": []
    },
    {
     "cell_type": "code",
     "collapsed": false,
     "input": [
      "localidades = bars.copy()\n",
      "localidades['Localidad'] = localidades['Localidad'].apply(\n",
      "    lambda x: to_ascii(x.split(' (')[0]).upper()) + ', ' + localidades['Provincia'].apply(lambda x: to_ascii(x).upper())\n",
      "por_localidad = pd.DataFrame({'Bares': localidades.groupby('Localidad').size()})\n",
      "por_localidad[por_localidad.Bares >= 10]\n",
      "por_localidad"
     ],
     "language": "python",
     "metadata": {},
     "outputs": []
    },
    {
     "cell_type": "code",
     "collapsed": false,
     "input": [
      "por_localidad.head(10)"
     ],
     "language": "python",
     "metadata": {},
     "outputs": []
    },
    {
     "cell_type": "code",
     "collapsed": false,
     "input": [
      "# http://www.jcyl.es/web/jcyl/Estadistica/es/Plantilla100/1284253352941/_/_/_\n",
      "\n",
      "population_locs = pd.DataFrame()\n",
      "\n",
      "for prov in joined.index:\n",
      "    population_loc = pd.read_excel('poblacion_por_localidad.xls', prov, header=0, index_col='Localidad')\n",
      "    population_loc = population_loc.set_index(population_loc.index.map(\n",
      "        lambda x: '{}, {}'.format(to_ascii(x).strip().split(', ')[0], prov)))\n",
      "    population_loc = population_loc.rename_axis({'Total': 'Poblaci\u00f3n'})\n",
      "    print '{} + {}'.format(len(population_locs), len(population_loc))\n",
      "    population_locs = pd.concat([population_locs, population_loc])"
     ],
     "language": "python",
     "metadata": {},
     "outputs": []
    },
    {
     "cell_type": "code",
     "collapsed": false,
     "input": [
      "population_locs.head()"
     ],
     "language": "python",
     "metadata": {},
     "outputs": []
    },
    {
     "cell_type": "code",
     "collapsed": false,
     "input": [
      "print len(por_localidad), len(population_locs)\n",
      "print sum([ix in por_localidad.index for ix in population_locs.index])"
     ],
     "language": "python",
     "metadata": {},
     "outputs": []
    },
    {
     "cell_type": "code",
     "collapsed": false,
     "input": [
      "df = por_localidad.join(population_locs, how='inner')\n",
      "df"
     ],
     "language": "python",
     "metadata": {},
     "outputs": []
    },
    {
     "cell_type": "code",
     "collapsed": false,
     "input": [
      "df.columns"
     ],
     "language": "python",
     "metadata": {},
     "outputs": []
    },
    {
     "cell_type": "code",
     "collapsed": false,
     "input": [
      "df['Habitantes por bar'] = df[u'Poblaci\u00f3n'] / df.Bares\n",
      "df.head()"
     ],
     "language": "python",
     "metadata": {},
     "outputs": []
    },
    {
     "cell_type": "code",
     "collapsed": false,
     "input": [
      "df[df.Bares >= 100].sort('Habitantes por bar').head(10)"
     ],
     "language": "python",
     "metadata": {},
     "outputs": []
    },
    {
     "cell_type": "code",
     "collapsed": false,
     "input": [],
     "language": "python",
     "metadata": {},
     "outputs": []
    },
    {
     "cell_type": "code",
     "collapsed": false,
     "input": [],
     "language": "python",
     "metadata": {},
     "outputs": []
    }
   ],
   "metadata": {}
  }
 ]
}